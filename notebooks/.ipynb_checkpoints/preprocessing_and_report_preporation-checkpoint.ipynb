{
 "cells": [
  {
   "cell_type": "markdown",
   "metadata": {},
   "source": [
    "# Анализ патентной активности юридических и физических лиц России \n",
    "**Источник данных:** патентная база [Orbit database](https://www.orbit.com/)"
   ]
  },
  {
   "cell_type": "markdown",
   "metadata": {},
   "source": [
    "***"
   ]
  },
  {
   "cell_type": "markdown",
   "metadata": {},
   "source": [
    "## Подготовка данных"
   ]
  },
  {
   "cell_type": "markdown",
   "metadata": {},
   "source": [
    "_Импортируем основные библиотеки._"
   ]
  },
  {
   "cell_type": "code",
   "execution_count": 1,
   "metadata": {},
   "outputs": [],
   "source": [
    "import pickle\n",
    "import tqdm\n",
    "import numpy as np\n",
    "import pandas as pd\n",
    "%matplotlib inline\n",
    "import matplotlib.pyplot as plt\n",
    "plt.rcParams['figure.figsize'] = (8, 4)\n",
    "import seaborn as sns\n",
    "plt.style.use('ggplot')\n",
    "#! pip install googletrans\n",
    "from googletrans import Translator\n",
    "# !pip install yandex-translater\n",
    "from yandex.Translater import Translater"
   ]
  },
  {
   "cell_type": "code",
   "execution_count": 2,
   "metadata": {},
   "outputs": [
    {
     "name": "stdout",
     "output_type": "stream",
     "text": [
      "Vitaliy Ye. \n",
      "\n",
      "CPython 3.6.2\n",
      "IPython 6.2.1\n",
      "\n",
      "pandas 0.23.4\n",
      "numpy 1.16.2\n",
      "matplotlib 2.1.1\n",
      "Git hash: HEAD\n"
     ]
    }
   ],
   "source": [
    "%reload_ext watermark\n",
    "%watermark --author \"Vitaliy Ye.\" --python -p pandas,numpy,matplotlib -g"
   ]
  },
  {
   "cell_type": "markdown",
   "metadata": {},
   "source": [
    "***"
   ]
  },
  {
   "cell_type": "markdown",
   "metadata": {},
   "source": [
    "Загрузим данные по патентным заявкам, поданным резидентами России в 2017 году (`Date: Application Between 2017-01-01 and 2017-12-31`; `Assignee Country = RU`)"
   ]
  },
  {
   "cell_type": "code",
   "execution_count": 3,
   "metadata": {},
   "outputs": [
    {
     "data": {
      "text/html": [
       "<div>\n",
       "<style scoped>\n",
       "    .dataframe tbody tr th:only-of-type {\n",
       "        vertical-align: middle;\n",
       "    }\n",
       "\n",
       "    .dataframe tbody tr th {\n",
       "        vertical-align: top;\n",
       "    }\n",
       "\n",
       "    .dataframe thead th {\n",
       "        text-align: right;\n",
       "    }\n",
       "</style>\n",
       "<table border=\"1\" class=\"dataframe\">\n",
       "  <thead>\n",
       "    <tr style=\"text-align: right;\">\n",
       "      <th></th>\n",
       "      <th>Application number</th>\n",
       "      <th>Priority dates</th>\n",
       "      <th>Current assignees</th>\n",
       "      <th>Technology domains</th>\n",
       "      <th>Assignee country</th>\n",
       "      <th>Assignee address</th>\n",
       "      <th>Assignees - Count</th>\n",
       "    </tr>\n",
       "  </thead>\n",
       "  <tbody>\n",
       "    <tr>\n",
       "      <th>0</th>\n",
       "      <td>EP17197386</td>\n",
       "      <td>2017-08-17|2017-10-12</td>\n",
       "      <td>AO KASPERSKY LAB</td>\n",
       "      <td>Computer technology</td>\n",
       "      <td>(EP3444737)|RU</td>\n",
       "      <td>(EP3444737)|NAME=AO Kaspersky Lab 39A/3 Lening...</td>\n",
       "      <td>1</td>\n",
       "    </tr>\n",
       "    <tr>\n",
       "      <th>1</th>\n",
       "      <td>RU2017129100</td>\n",
       "      <td>2017-08-16</td>\n",
       "      <td>LOGVINOVA YULIYA ANDREEVNA</td>\n",
       "      <td>IT methods for management</td>\n",
       "      <td>(RU2679282)|RU</td>\n",
       "      <td>(RU2679282)|NAME=LOGVINOVA YULIYA ANDREEVNA , ...</td>\n",
       "      <td>1</td>\n",
       "    </tr>\n",
       "    <tr>\n",
       "      <th>2</th>\n",
       "      <td>RU2017145342</td>\n",
       "      <td>2017-12-22</td>\n",
       "      <td>PUBLICHNOE SBERBANK ROSSII PAO SBERBANK</td>\n",
       "      <td>IT methods for management</td>\n",
       "      <td>(RU2679231)|RU</td>\n",
       "      <td>(RU2679231)|NAME=PUBLICHNOE AKTSIONERNOE OBSHC...</td>\n",
       "      <td>1</td>\n",
       "    </tr>\n",
       "    <tr>\n",
       "      <th>3</th>\n",
       "      <td>RU2017141933</td>\n",
       "      <td>2017-12-01</td>\n",
       "      <td>KHOZYAINOV BORIS ALEKSEEVICH</td>\n",
       "      <td>Computer technology|Digital communication</td>\n",
       "      <td>(RU2679205)|RU</td>\n",
       "      <td>(RU2679205)|NAME=KHOZYAINOV BORIS ALEKSEEVICH ...</td>\n",
       "      <td>0</td>\n",
       "    </tr>\n",
       "    <tr>\n",
       "      <th>4</th>\n",
       "      <td>RU2017141916</td>\n",
       "      <td>2017-12-01</td>\n",
       "      <td>SHKILEV VLADIMIR DMITRIEVICH</td>\n",
       "      <td>Computer technology|Machine tools</td>\n",
       "      <td>(RU2679177)|RU</td>\n",
       "      <td>(RU2679177)|NAME=SHKILEV VLADIMIR DMITRIEVICH ...</td>\n",
       "      <td>0</td>\n",
       "    </tr>\n",
       "  </tbody>\n",
       "</table>\n",
       "</div>"
      ],
      "text/plain": [
       "  Application number         Priority dates  \\\n",
       "0         EP17197386  2017-08-17|2017-10-12   \n",
       "1       RU2017129100             2017-08-16   \n",
       "2       RU2017145342             2017-12-22   \n",
       "3       RU2017141933             2017-12-01   \n",
       "4       RU2017141916             2017-12-01   \n",
       "\n",
       "                         Current assignees  \\\n",
       "0                         AO KASPERSKY LAB   \n",
       "1               LOGVINOVA YULIYA ANDREEVNA   \n",
       "2  PUBLICHNOE SBERBANK ROSSII PAO SBERBANK   \n",
       "3             KHOZYAINOV BORIS ALEKSEEVICH   \n",
       "4             SHKILEV VLADIMIR DMITRIEVICH   \n",
       "\n",
       "                          Technology domains Assignee country  \\\n",
       "0                        Computer technology   (EP3444737)|RU   \n",
       "1                  IT methods for management   (RU2679282)|RU   \n",
       "2                  IT methods for management   (RU2679231)|RU   \n",
       "3  Computer technology|Digital communication   (RU2679205)|RU   \n",
       "4          Computer technology|Machine tools   (RU2679177)|RU   \n",
       "\n",
       "                                    Assignee address  Assignees - Count  \n",
       "0  (EP3444737)|NAME=AO Kaspersky Lab 39A/3 Lening...                  1  \n",
       "1  (RU2679282)|NAME=LOGVINOVA YULIYA ANDREEVNA , ...                  1  \n",
       "2  (RU2679231)|NAME=PUBLICHNOE AKTSIONERNOE OBSHC...                  1  \n",
       "3  (RU2679205)|NAME=KHOZYAINOV BORIS ALEKSEEVICH ...                  0  \n",
       "4  (RU2679177)|NAME=SHKILEV VLADIMIR DMITRIEVICH ...                  0  "
      ]
     },
     "execution_count": 3,
     "metadata": {},
     "output_type": "execute_result"
    }
   ],
   "source": [
    "PATH_TO_DATA = '../data/raw/c85b631e-308f-4b5a-a05c-af39cb13ab16-033020.csv'\n",
    "data = pd.read_csv(PATH_TO_DATA, \n",
    "                sep=',', \n",
    "                #header=None,\n",
    "                #error_bad_lines=False,\n",
    "                encoding='utf-16')\n",
    "data.head()"
   ]
  },
  {
   "cell_type": "code",
   "execution_count": 4,
   "metadata": {},
   "outputs": [
    {
     "data": {
      "text/html": [
       "<div>\n",
       "<style scoped>\n",
       "    .dataframe tbody tr th:only-of-type {\n",
       "        vertical-align: middle;\n",
       "    }\n",
       "\n",
       "    .dataframe tbody tr th {\n",
       "        vertical-align: top;\n",
       "    }\n",
       "\n",
       "    .dataframe thead th {\n",
       "        text-align: right;\n",
       "    }\n",
       "</style>\n",
       "<table border=\"1\" class=\"dataframe\">\n",
       "  <thead>\n",
       "    <tr style=\"text-align: right;\">\n",
       "      <th></th>\n",
       "      <th>Assignees - Count</th>\n",
       "    </tr>\n",
       "  </thead>\n",
       "  <tbody>\n",
       "    <tr>\n",
       "      <th>count</th>\n",
       "      <td>1306.000000</td>\n",
       "    </tr>\n",
       "    <tr>\n",
       "      <th>mean</th>\n",
       "      <td>0.859112</td>\n",
       "    </tr>\n",
       "    <tr>\n",
       "      <th>std</th>\n",
       "      <td>0.393507</td>\n",
       "    </tr>\n",
       "    <tr>\n",
       "      <th>min</th>\n",
       "      <td>0.000000</td>\n",
       "    </tr>\n",
       "    <tr>\n",
       "      <th>25%</th>\n",
       "      <td>1.000000</td>\n",
       "    </tr>\n",
       "    <tr>\n",
       "      <th>50%</th>\n",
       "      <td>1.000000</td>\n",
       "    </tr>\n",
       "    <tr>\n",
       "      <th>75%</th>\n",
       "      <td>1.000000</td>\n",
       "    </tr>\n",
       "    <tr>\n",
       "      <th>max</th>\n",
       "      <td>4.000000</td>\n",
       "    </tr>\n",
       "  </tbody>\n",
       "</table>\n",
       "</div>"
      ],
      "text/plain": [
       "       Assignees - Count\n",
       "count        1306.000000\n",
       "mean            0.859112\n",
       "std             0.393507\n",
       "min             0.000000\n",
       "25%             1.000000\n",
       "50%             1.000000\n",
       "75%             1.000000\n",
       "max             4.000000"
      ]
     },
     "execution_count": 4,
     "metadata": {},
     "output_type": "execute_result"
    }
   ],
   "source": [
    "data.describe()"
   ]
  },
  {
   "cell_type": "code",
   "execution_count": 5,
   "metadata": {},
   "outputs": [
    {
     "data": {
      "text/plain": [
       "(1306, 7)"
      ]
     },
     "execution_count": 5,
     "metadata": {},
     "output_type": "execute_result"
    }
   ],
   "source": [
    "data.shape"
   ]
  },
  {
   "cell_type": "markdown",
   "metadata": {},
   "source": [
    "Также подгрузим только те заявки, которые были поданы только в патентный офис в России. (`Patents published in (patent authorities): RU?`)"
   ]
  },
  {
   "cell_type": "code",
   "execution_count": 6,
   "metadata": {},
   "outputs": [
    {
     "data": {
      "text/plain": [
       "(1187, 7)"
      ]
     },
     "execution_count": 6,
     "metadata": {},
     "output_type": "execute_result"
    }
   ],
   "source": [
    "PATH_TO_ONLY_RU_DATA = '../data/raw/43e3adbf-30d9-4119-b9e6-64a408b06f88-055005.csv'\n",
    "data_only_ru = pd.read_csv(PATH_TO_ONLY_RU_DATA, \n",
    "                sep=',', \n",
    "                #header=None,\n",
    "                #error_bad_lines=False,\n",
    "                encoding='utf-16')\n",
    "data_only_ru.shape"
   ]
  },
  {
   "cell_type": "markdown",
   "metadata": {},
   "source": [
    "Сбелаем исключающую логическую операцию, чтобы выбрать только те патенты, которые не были поданы только в России."
   ]
  },
  {
   "cell_type": "code",
   "execution_count": 7,
   "metadata": {},
   "outputs": [
    {
     "data": {
      "text/plain": [
       "(328, 7)"
      ]
     },
     "execution_count": 7,
     "metadata": {},
     "output_type": "execute_result"
    }
   ],
   "source": [
    "data = data[~data['Application number'].isin(data_only_ru['Application number'])]\n",
    "data.shape"
   ]
  },
  {
   "cell_type": "markdown",
   "metadata": {},
   "source": [
    "***"
   ]
  },
  {
   "cell_type": "markdown",
   "metadata": {},
   "source": [
    "Посмотрим на описательные статистики Assignees count у получившегося датасета."
   ]
  },
  {
   "cell_type": "code",
   "execution_count": 8,
   "metadata": {
    "scrolled": true
   },
   "outputs": [
    {
     "data": {
      "text/html": [
       "<div>\n",
       "<style scoped>\n",
       "    .dataframe tbody tr th:only-of-type {\n",
       "        vertical-align: middle;\n",
       "    }\n",
       "\n",
       "    .dataframe tbody tr th {\n",
       "        vertical-align: top;\n",
       "    }\n",
       "\n",
       "    .dataframe thead th {\n",
       "        text-align: right;\n",
       "    }\n",
       "</style>\n",
       "<table border=\"1\" class=\"dataframe\">\n",
       "  <thead>\n",
       "    <tr style=\"text-align: right;\">\n",
       "      <th></th>\n",
       "      <th>Assignees - Count</th>\n",
       "    </tr>\n",
       "  </thead>\n",
       "  <tbody>\n",
       "    <tr>\n",
       "      <th>count</th>\n",
       "      <td>328.000000</td>\n",
       "    </tr>\n",
       "    <tr>\n",
       "      <th>mean</th>\n",
       "      <td>0.926829</td>\n",
       "    </tr>\n",
       "    <tr>\n",
       "      <th>std</th>\n",
       "      <td>0.450090</td>\n",
       "    </tr>\n",
       "    <tr>\n",
       "      <th>min</th>\n",
       "      <td>0.000000</td>\n",
       "    </tr>\n",
       "    <tr>\n",
       "      <th>25%</th>\n",
       "      <td>1.000000</td>\n",
       "    </tr>\n",
       "    <tr>\n",
       "      <th>50%</th>\n",
       "      <td>1.000000</td>\n",
       "    </tr>\n",
       "    <tr>\n",
       "      <th>75%</th>\n",
       "      <td>1.000000</td>\n",
       "    </tr>\n",
       "    <tr>\n",
       "      <th>max</th>\n",
       "      <td>4.000000</td>\n",
       "    </tr>\n",
       "  </tbody>\n",
       "</table>\n",
       "</div>"
      ],
      "text/plain": [
       "       Assignees - Count\n",
       "count         328.000000\n",
       "mean            0.926829\n",
       "std             0.450090\n",
       "min             0.000000\n",
       "25%             1.000000\n",
       "50%             1.000000\n",
       "75%             1.000000\n",
       "max             4.000000"
      ]
     },
     "execution_count": 8,
     "metadata": {},
     "output_type": "execute_result"
    }
   ],
   "source": [
    "data.describe()"
   ]
  },
  {
   "cell_type": "code",
   "execution_count": 9,
   "metadata": {},
   "outputs": [
    {
     "data": {
      "text/html": [
       "<div>\n",
       "<style scoped>\n",
       "    .dataframe tbody tr th:only-of-type {\n",
       "        vertical-align: middle;\n",
       "    }\n",
       "\n",
       "    .dataframe tbody tr th {\n",
       "        vertical-align: top;\n",
       "    }\n",
       "\n",
       "    .dataframe thead th {\n",
       "        text-align: right;\n",
       "    }\n",
       "</style>\n",
       "<table border=\"1\" class=\"dataframe\">\n",
       "  <thead>\n",
       "    <tr style=\"text-align: right;\">\n",
       "      <th></th>\n",
       "      <th>Assignees - Count</th>\n",
       "    </tr>\n",
       "  </thead>\n",
       "  <tbody>\n",
       "    <tr>\n",
       "      <th>1</th>\n",
       "      <td>268</td>\n",
       "    </tr>\n",
       "    <tr>\n",
       "      <th>0</th>\n",
       "      <td>43</td>\n",
       "    </tr>\n",
       "    <tr>\n",
       "      <th>2</th>\n",
       "      <td>16</td>\n",
       "    </tr>\n",
       "    <tr>\n",
       "      <th>4</th>\n",
       "      <td>1</td>\n",
       "    </tr>\n",
       "  </tbody>\n",
       "</table>\n",
       "</div>"
      ],
      "text/plain": [
       "   Assignees - Count\n",
       "1                268\n",
       "0                 43\n",
       "2                 16\n",
       "4                  1"
      ]
     },
     "execution_count": 9,
     "metadata": {},
     "output_type": "execute_result"
    }
   ],
   "source": [
    "pd.DataFrame(data['Assignees - Count'].value_counts())"
   ]
  },
  {
   "cell_type": "code",
   "execution_count": 10,
   "metadata": {},
   "outputs": [
    {
     "data": {
      "image/png": "[encoded data removed]",
      "text/plain": [
       "<matplotlib.figure.Figure at 0xf19993f28>"
      ]
     },
     "metadata": {},
     "output_type": "display_data"
    }
   ],
   "source": [
    "x = data['Assignees - Count'].value_counts().index\n",
    "y = data['Assignees - Count'].value_counts()\n",
    "_ = sns.barplot(y=y, x=x)\n",
    "plt.title('Distribution of Assignees - Count')\n",
    "plt.xlabel('Assignees - Count category')\n",
    "plt.ylabel('Assignees - Count frequency')\n",
    "plt.tight_layout()\n",
    "plt.savefig('../reports/figures/Distribution of Assignees - Count.png', dpi=600)\n",
    "del x, y, _"
   ]
  },
  {
   "cell_type": "markdown",
   "metadata": {},
   "source": [
    "Теперь посмотрим, сколько Assignees у заявок \"на самом деле\". Можно было бы использовать это знание для упрощения вспомогательных действий анализа.\n",
    "\n",
    "**Note:** Причины отличия вектор-столбца \"Assignees count\" и количества фактических Assignees пока-что не ясны."
   ]
  },
  {
   "cell_type": "code",
   "execution_count": 11,
   "metadata": {},
   "outputs": [],
   "source": [
    "from collections import Counter"
   ]
  },
  {
   "cell_type": "code",
   "execution_count": 12,
   "metadata": {},
   "outputs": [
    {
     "name": "stdout",
     "output_type": "stream",
     "text": [
      "There are 118 patent applications with equals to 1 assignees\n",
      "There are 162 patent applications with equals to 2 assignees\n",
      "There are 32 patent applications with equals to 3 assignees\n",
      "There are 7 patent applications with equals to 4 assignees\n",
      "There are 2 patent applications with equals to 5 assignees\n",
      "There are 2 patent applications with equals to 6 assignees\n",
      "There are 3 patent applications with equals to 7 assignees\n",
      "There are 2 patent applications with equals to 8 assignees\n"
     ]
    }
   ],
   "source": [
    "data_splited = data['Current assignees'].str.split('|', expand=False)\n",
    "for i in range(1, data_splited.apply(len).max() + 1):\n",
    "    print('There are {} patent applications with equals to \\033[1m{}\\033[0;0m assignees'.format(\n",
    "                        (data['Current assignees'].str.split('|', expand=False).apply(len) == i).sum(),\n",
    "                        i))\n",
    "del data_splited"
   ]
  },
  {
   "cell_type": "markdown",
   "metadata": {},
   "source": [
    "***"
   ]
  },
  {
   "cell_type": "markdown",
   "metadata": {},
   "source": [
    "Обработаем вектор-столбцы Current assignees и Assignee address"
   ]
  },
  {
   "cell_type": "code",
   "execution_count": 13,
   "metadata": {},
   "outputs": [],
   "source": [
    "# более простой, но не пригодный для дальнейшего анализа способ выделить всех Assignee\n",
    "# data_all_assignees = np.concatenate(data['Current assignees'].str.split('\\|', expand=False).values)\n",
    "# pd.DataFrame(data_all_assignees, columns=['Assignee'])['Assignee'].value_counts().head()"
   ]
  },
  {
   "cell_type": "markdown",
   "metadata": {},
   "source": [
    "- Assignee address "
   ]
  },
  {
   "cell_type": "code",
   "execution_count": 14,
   "metadata": {},
   "outputs": [],
   "source": [
    "import re\n",
    "pattern = re.compile('\\(\\w*\\d*\\)\\|NAME=|\\|NAME=')\n",
    "data['Assignee address_splited'] = data['Assignee address'].apply(pattern.split).apply(lambda x : x[1:])"
   ]
  },
  {
   "cell_type": "markdown",
   "metadata": {},
   "source": [
    "- Current assignees (раскроем вложенность)\n",
    "\n",
    "Приведем к формату: \n",
    "\n",
    "|     Application number     \t|     Assignee     \t|\n",
    "|:--------------------------:\t|:----------------:\t|\n",
    "| Application number$_i$     \t| Assignee$_j$     \t|\n",
    "| Application number$_i$     \t| Assignee$_{j+1}$ \t|\n",
    "| Application number$_{i+1}$ \t| Assignee$_j$     \t|"
   ]
  },
  {
   "cell_type": "code",
   "execution_count": 15,
   "metadata": {},
   "outputs": [],
   "source": [
    "lens = [len(item) for item in data['Current assignees'].str.split('|')]\n",
    "data_assignee_multiple_rows = pd.DataFrame({\"Application number\" : np.repeat(data['Application number'], lens), \n",
    "               \"Assignee\" : np.hstack(data['Current assignees'].str.split('\\|', expand=False).values)})"
   ]
  },
  {
   "cell_type": "code",
   "execution_count": 16,
   "metadata": {},
   "outputs": [
    {
     "data": {
      "text/html": [
       "<div>\n",
       "<style scoped>\n",
       "    .dataframe tbody tr th:only-of-type {\n",
       "        vertical-align: middle;\n",
       "    }\n",
       "\n",
       "    .dataframe tbody tr th {\n",
       "        vertical-align: top;\n",
       "    }\n",
       "\n",
       "    .dataframe thead th {\n",
       "        text-align: right;\n",
       "    }\n",
       "</style>\n",
       "<table border=\"1\" class=\"dataframe\">\n",
       "  <thead>\n",
       "    <tr style=\"text-align: right;\">\n",
       "      <th></th>\n",
       "      <th>Application number</th>\n",
       "      <th>Assignee</th>\n",
       "    </tr>\n",
       "  </thead>\n",
       "  <tbody>\n",
       "    <tr>\n",
       "      <th>0</th>\n",
       "      <td>EP17197386</td>\n",
       "      <td>AO KASPERSKY LAB</td>\n",
       "    </tr>\n",
       "    <tr>\n",
       "      <th>22</th>\n",
       "      <td>EP17197385</td>\n",
       "      <td>AO KASPERSKY LAB</td>\n",
       "    </tr>\n",
       "    <tr>\n",
       "      <th>23</th>\n",
       "      <td>EP17197108</td>\n",
       "      <td>AO KASPERSKY LAB</td>\n",
       "    </tr>\n",
       "    <tr>\n",
       "      <th>24</th>\n",
       "      <td>WORU2017000572</td>\n",
       "      <td>AUTONOMOUS NON PROFIT ORGANIZATION FOR HIGHER ...</td>\n",
       "    </tr>\n",
       "    <tr>\n",
       "      <th>28</th>\n",
       "      <td>RU2017125876</td>\n",
       "      <td>AUTONOMOUS NON PROFIT ORGANIZATION FOR HIGHER ...</td>\n",
       "    </tr>\n",
       "  </tbody>\n",
       "</table>\n",
       "</div>"
      ],
      "text/plain": [
       "   Application number                                           Assignee\n",
       "0          EP17197386                                   AO KASPERSKY LAB\n",
       "22         EP17197385                                   AO KASPERSKY LAB\n",
       "23         EP17197108                                   AO KASPERSKY LAB\n",
       "24     WORU2017000572  AUTONOMOUS NON PROFIT ORGANIZATION FOR HIGHER ...\n",
       "28       RU2017125876  AUTONOMOUS NON PROFIT ORGANIZATION FOR HIGHER ..."
      ]
     },
     "execution_count": 16,
     "metadata": {},
     "output_type": "execute_result"
    }
   ],
   "source": [
    "data_assignee_multiple_rows.head()"
   ]
  },
  {
   "cell_type": "markdown",
   "metadata": {},
   "source": [
    "Выведем статистики по количеству правообладателей (Assignee) на патентную заявку."
   ]
  },
  {
   "cell_type": "code",
   "execution_count": 17,
   "metadata": {},
   "outputs": [
    {
     "data": {
      "text/html": [
       "<div>\n",
       "<style scoped>\n",
       "    .dataframe tbody tr th:only-of-type {\n",
       "        vertical-align: middle;\n",
       "    }\n",
       "\n",
       "    .dataframe tbody tr th {\n",
       "        vertical-align: top;\n",
       "    }\n",
       "\n",
       "    .dataframe thead th {\n",
       "        text-align: right;\n",
       "    }\n",
       "</style>\n",
       "<table border=\"1\" class=\"dataframe\">\n",
       "  <thead>\n",
       "    <tr style=\"text-align: right;\">\n",
       "      <th></th>\n",
       "      <th>0</th>\n",
       "    </tr>\n",
       "  </thead>\n",
       "  <tbody>\n",
       "    <tr>\n",
       "      <th>count</th>\n",
       "      <td>328.000000</td>\n",
       "    </tr>\n",
       "    <tr>\n",
       "      <th>mean</th>\n",
       "      <td>1.905488</td>\n",
       "    </tr>\n",
       "    <tr>\n",
       "      <th>std</th>\n",
       "      <td>1.066691</td>\n",
       "    </tr>\n",
       "    <tr>\n",
       "      <th>min</th>\n",
       "      <td>1.000000</td>\n",
       "    </tr>\n",
       "    <tr>\n",
       "      <th>25%</th>\n",
       "      <td>1.000000</td>\n",
       "    </tr>\n",
       "    <tr>\n",
       "      <th>50%</th>\n",
       "      <td>2.000000</td>\n",
       "    </tr>\n",
       "    <tr>\n",
       "      <th>75%</th>\n",
       "      <td>2.000000</td>\n",
       "    </tr>\n",
       "    <tr>\n",
       "      <th>max</th>\n",
       "      <td>8.000000</td>\n",
       "    </tr>\n",
       "  </tbody>\n",
       "</table>\n",
       "</div>"
      ],
      "text/plain": [
       "                0\n",
       "count  328.000000\n",
       "mean     1.905488\n",
       "std      1.066691\n",
       "min      1.000000\n",
       "25%      1.000000\n",
       "50%      2.000000\n",
       "75%      2.000000\n",
       "max      8.000000"
      ]
     },
     "execution_count": 17,
     "metadata": {},
     "output_type": "execute_result"
    }
   ],
   "source": [
    "pd.DataFrame(lens).describe()"
   ]
  },
  {
   "cell_type": "code",
   "execution_count": 18,
   "metadata": {},
   "outputs": [
    {
     "data": {
      "image/png": "[encoded data removed]",
      "text/plain": [
       "<matplotlib.figure.Figure at 0xf77c85748>"
      ]
     },
     "metadata": {},
     "output_type": "display_data"
    }
   ],
   "source": [
    "_ = sns.violinplot(lens)\n",
    "plt.title('Distribution of fact Assignees per application')\n",
    "plt.xlabel('Assignees per application')\n",
    "plt.ylabel('Frequensy of Assignees per application')\n",
    "plt.savefig('../reports/figures/Distribution of fact Assignees per application.png', dpi=600)\n",
    "plt.tight_layout()"
   ]
  },
  {
   "cell_type": "markdown",
   "metadata": {},
   "source": [
    "***"
   ]
  },
  {
   "cell_type": "markdown",
   "metadata": {},
   "source": [
    "Теперь также приведем всех Current assignees из транслитного к кирилическому написанию. Это нужно для того, чтобы более успешно обращаться к базам данным на русском языке. Используем для \"детранслитеризации\" api переводчиков крупнейших поисковиков (конкурент из России выполняет задачу не хуже для объектов из России, где нет аббревиатур: OOO Tender, но намного хуже для имён и фамилий Alex Alexejyev or Alex Alekseiev) и хэширование, чтобы ускорить время работы и избавиться от необходимости обращаться за повторяющимися значениями.\n",
    "\n",
    "Поскольку очевидно, что даже лучшая машина не в состоянии обработать некоторые случаи, сделаем задел под работу молодых аналитиков и разметчиков, которым вместо поиска информации вручную в неопределенности придется в лучшем случае выбирать между двумя вариантами де-транслитеризации. Например:\n",
    "\n",
    "|     Оригинал     \t|       Вариант1      \t|           Вариант 2          \t|\n",
    "|:----------------:\t|:-------------------:\t|:----------------------------:\t|\n",
    "| AO KASPERSKY LAB \t| АО \"КАСПЕРСКИЙ ЛАБ\" \t| АО \"ЛАБОРАТОРИЯ КАСПЕРСКОГО\" \t|"
   ]
  },
  {
   "cell_type": "code",
   "execution_count": 19,
   "metadata": {},
   "outputs": [
    {
     "data": {
      "text/html": [
       "<div>\n",
       "<style scoped>\n",
       "    .dataframe tbody tr th:only-of-type {\n",
       "        vertical-align: middle;\n",
       "    }\n",
       "\n",
       "    .dataframe tbody tr th {\n",
       "        vertical-align: top;\n",
       "    }\n",
       "\n",
       "    .dataframe thead th {\n",
       "        text-align: right;\n",
       "    }\n",
       "</style>\n",
       "<table border=\"1\" class=\"dataframe\">\n",
       "  <thead>\n",
       "    <tr style=\"text-align: right;\">\n",
       "      <th></th>\n",
       "      <th>Application number</th>\n",
       "      <th>Assignee</th>\n",
       "    </tr>\n",
       "  </thead>\n",
       "  <tbody>\n",
       "    <tr>\n",
       "      <th>0</th>\n",
       "      <td>EP17197386</td>\n",
       "      <td>AO KASPERSKY LAB</td>\n",
       "    </tr>\n",
       "    <tr>\n",
       "      <th>22</th>\n",
       "      <td>EP17197385</td>\n",
       "      <td>AO KASPERSKY LAB</td>\n",
       "    </tr>\n",
       "    <tr>\n",
       "      <th>23</th>\n",
       "      <td>EP17197108</td>\n",
       "      <td>AO KASPERSKY LAB</td>\n",
       "    </tr>\n",
       "    <tr>\n",
       "      <th>24</th>\n",
       "      <td>WORU2017000572</td>\n",
       "      <td>AUTONOMOUS NON PROFIT ORGANIZATION FOR HIGHER ...</td>\n",
       "    </tr>\n",
       "    <tr>\n",
       "      <th>28</th>\n",
       "      <td>RU2017125876</td>\n",
       "      <td>AUTONOMOUS NON PROFIT ORGANIZATION FOR HIGHER ...</td>\n",
       "    </tr>\n",
       "  </tbody>\n",
       "</table>\n",
       "</div>"
      ],
      "text/plain": [
       "   Application number                                           Assignee\n",
       "0          EP17197386                                   AO KASPERSKY LAB\n",
       "22         EP17197385                                   AO KASPERSKY LAB\n",
       "23         EP17197108                                   AO KASPERSKY LAB\n",
       "24     WORU2017000572  AUTONOMOUS NON PROFIT ORGANIZATION FOR HIGHER ...\n",
       "28       RU2017125876  AUTONOMOUS NON PROFIT ORGANIZATION FOR HIGHER ..."
      ]
     },
     "execution_count": 19,
     "metadata": {},
     "output_type": "execute_result"
    }
   ],
   "source": [
    "data_assignee_multiple_rows.head()"
   ]
  },
  {
   "cell_type": "code",
   "execution_count": null,
   "metadata": {},
   "outputs": [],
   "source": [
    "# dct_go = {}\n",
    "# dct_ya = {}\n",
    "# # translators initialisation\n",
    "# translator_go = Translator()\n",
    "# key = 'API KEY HERE'\n",
    "# translator_ya = Translater()\n",
    "# translator_ya.set_key(key) # Api key found on https://translate.yandex.com/developers/keys\n",
    "# translator_ya.set_from_lang('en')\n",
    "# translator_ya.set_to_lang('ru')"
   ]
  },
  {
   "cell_type": "raw",
   "metadata": {},
   "source": [
    "%%time\n",
    "# Wall time: 53.6 s\n",
    "for idx, assignee in tqdm.tqdm_notebook(data_assignee_multiple_rows.Assignee.iteritems()):\n",
    "    # if vere checked -> find in dict else translate and add to dict\n",
    "    if dct_go.get(assignee) is None or dct_ya.get(assignee) is None:\n",
    "        # translation part\n",
    "        s_go = translator_go.translate(assignee, dest='ru')\n",
    "        translator_ya.set_text(assignee)\n",
    "        s_ya = translator_ya.translate()\n",
    "        # hashing part\n",
    "        dct_go[assignee] = s_go.text\n",
    "        dct_ya[assignee] = s_ya"
   ]
  },
  {
   "cell_type": "raw",
   "metadata": {},
   "source": [
    "with open('../data/external/list_of_detrans_go.txt', 'wb') as file_out:\n",
    "    pickle.dump(dct_go, file_out)\n",
    "with open('../data/external/list_of_detrans_ya.txt', 'wb') as file_out:\n",
    "    pickle.dump(dct_ya, file_out)"
   ]
  },
  {
   "cell_type": "code",
   "execution_count": 20,
   "metadata": {},
   "outputs": [],
   "source": [
    "with open('../data/external/list_of_detrans_go.txt', 'rb') as file_in:\n",
    "    dct_go = pickle.load(file_in)\n",
    "with open('../data/external/list_of_detrans_ya.txt', 'rb') as file_in:\n",
    "    dct_ya = pickle.load(file_in)"
   ]
  },
  {
   "cell_type": "code",
   "execution_count": 21,
   "metadata": {},
   "outputs": [],
   "source": [
    "data_assignee_multiple_rows['Assignee_ru_go'] = data_assignee_multiple_rows['Assignee'].map(dct_go)\n",
    "data_assignee_multiple_rows['Assignee_ru_ya'] = data_assignee_multiple_rows['Assignee'].map(dct_ya)"
   ]
  },
  {
   "cell_type": "markdown",
   "metadata": {},
   "source": [
    "___"
   ]
  },
  {
   "cell_type": "markdown",
   "metadata": {},
   "source": [
    "Попробуем установить класс **organisation/individual** для каждого Assignee. Для этого используем NER и что-нибудь, что неплохо работает для датасета и не требует обучения с нуля или дообучения."
   ]
  },
  {
   "cell_type": "code",
   "execution_count": 22,
   "metadata": {},
   "outputs": [],
   "source": [
    "import textrazor\n",
    "textrazor.api_key = 'API KEY HERE'"
   ]
  },
  {
   "cell_type": "markdown",
   "metadata": {},
   "source": [
    "Чтобы не делать отдельный запрос, подготовим несколько вариантов слияния названий, которые интуитивно будут разделимы. Лучше всего работет с каждой строкой отдельно, без каких-либо изменений."
   ]
  },
  {
   "cell_type": "code",
   "execution_count": 23,
   "metadata": {},
   "outputs": [],
   "source": [
    "# dct3 = {'individual':[],\n",
    "#         'organisation': []}"
   ]
  },
  {
   "cell_type": "code",
   "execution_count": 24,
   "metadata": {},
   "outputs": [],
   "source": [
    "# client3 = textrazor.TextRazor(extractors=['entities',\n",
    "#                                          'topics',\n",
    "#                                          'words',\n",
    "#                                          'phrases',\n",
    "#                                          'dependency-trees',\n",
    "#                                          'relations',\n",
    "#                                          'entailments',\n",
    "#                                          'senses',\n",
    "#                                          'spelling'])"
   ]
  },
  {
   "cell_type": "code",
   "execution_count": 25,
   "metadata": {},
   "outputs": [],
   "source": [
    "# %%time\n",
    "# # Wall time: 6min 17s\n",
    "# for idx, item in tqdm.tqdm_notebook(list(data_assignee_multiple_rows.Assignee.iteritems())):\n",
    "#     response3 = client3.analyze(item)\n",
    "#     if dct_ner_unique.get(item) is None:\n",
    "#         dct_ner_unique[item] = response3.entities()\n",
    "#     lst3.append(dct_ner_unique[item])"
   ]
  },
  {
   "cell_type": "code",
   "execution_count": 26,
   "metadata": {},
   "outputs": [],
   "source": [
    "# with open('../data/interim/dct_of_ner3.txt', 'wb') as file_out:\n",
    "#     pickle.dump(dct_ner_unique, file_out)\n",
    "# with open('../data/interim/list_of_ner3.txt', 'wb') as file_out:\n",
    "#     pickle.dump(lst3, file_out)"
   ]
  },
  {
   "cell_type": "code",
   "execution_count": 27,
   "metadata": {},
   "outputs": [],
   "source": [
    "with open('../data/interim/dct_of_ner3.txt', 'rb') as file_in:\n",
    "    dct_ner_unique = pickle.load(file_in)\n",
    "with open('../data/interim/list_of_ner3.txt', 'rb') as file_in:\n",
    "    lst3 = pickle.load(file_in)"
   ]
  },
  {
   "cell_type": "code",
   "execution_count": 28,
   "metadata": {},
   "outputs": [],
   "source": [
    "dct3 = dct_ner_unique.copy()\n",
    "for key in dct_ner_unique.keys():\n",
    "    if len(dct_ner_unique[key]) == 0:\n",
    "        ################################################\n",
    "        # эвристика после пристального взгляда на данные\n",
    "        # print('~ '+key)\n",
    "        dct3[key] = 'organisation'\n",
    "    for value in dct_ner_unique[key]:\n",
    "        cats = \" \".join(value.freebase_types)\n",
    "        # выявим тех, кого распознет не в заданных рамках\n",
    "        if not ('/organization/organization' in cats or '/people' in cats):\n",
    "            ################################################\n",
    "            # эвристика после пристального взгляда на данные\n",
    "            # print('*', key, value.id, value.freebase_types)\n",
    "            dct3[key] = 'organisation'\n",
    "        else:\n",
    "            dct3[key] = 'organisation' if '/organization/organization' in cats else 'individual'"
   ]
  },
  {
   "cell_type": "code",
   "execution_count": 29,
   "metadata": {},
   "outputs": [],
   "source": [
    "# with open('../data/interim/dct_of_fullyautolabeled_ner.txt', 'wb') as file_out:\n",
    "#     pickle.dump(dct3_aux, file_out)"
   ]
  },
  {
   "cell_type": "code",
   "execution_count": 30,
   "metadata": {},
   "outputs": [],
   "source": [
    "# with open('../data/interim/dct_of_fullyautolabeled_ner.txt', 'rb') as file_in:\n",
    "#     dct3 = pickle.load(file_in)"
   ]
  },
  {
   "cell_type": "markdown",
   "metadata": {},
   "source": [
    "Поправим вручную неверные явно названия вручную."
   ]
  },
  {
   "cell_type": "code",
   "execution_count": 31,
   "metadata": {},
   "outputs": [],
   "source": [
    "dct3_aux = dct3.copy()\n",
    "string = '''ABILMA\n",
    "ABBY DEVELOPMENT\n",
    "ABIMA\n",
    "AKCIONERNOE OBSHCHESTVO KROSS TEKHNOLODZHIS\n",
    "ALMAZ ANTEY\n",
    "ELIDA\n",
    "HILL TRUDY\n",
    "IY MA CHUL\n",
    "KASPERSKY\n",
    "LABORATORIYA KASPERSKOGO\n",
    "LANDIGRAD\n",
    "NEKOMMERCHESKOE PARTNERSTVO TSENTR RAZVITIYA DELOVOGO I KULTURNOGO SOTRUDNICHESTVA EKSPERT\n",
    "NORMA ENERGOINVEST\n",
    "OBSHCHESTVO S OGRANICHENNOJ OTVETSTVENNOSTYU INTELLEKTUALNYE SISTEMY UPRAVLENIYA BIZNESOM\n",
    "OBSHCHESTVO S OGRANICHENNOJ OTVETSTVENNOSTYU KROKUS NANOELEKTRONIKA\n",
    "OBSHCHESTVO S OGRANICHENNOJ OTVETSTVENNOSTYU TERKON KTT OOO TERKON KTT\n",
    "OBSHCHESTVO S OGRANICHENNOJ OTVETSTVENNOSTYU ZABOTLIVYJ GOROD\n",
    "OBSHCHESTVO S OGRANICHENNOY OTVETSTVENNOSTYU CONSTANTA\n",
    "OOO ABI DEVELOPMENT\n",
    "OOO ELIDA\n",
    "OTKRYTOE ROSSIJSKIE ZHELEZNYE DOROGI\n",
    "ROSSIJSKAJA KORPORATSIJA RAKETNO KOSMICHESKOGO PRIBOROSTROENIJA I INFORMATS\n",
    "ROSSIJSKAYA KORPORATSIYA RAKETNO KOSMICHESKOGO PRIBOROSTROENIYA I INFORMATS\n",
    "ROTEK AO ROTEK\n",
    "YANDEX EUROPE'''\n",
    "for key in string.split('\\n'):\n",
    "    dct3_aux[key] = 'organisation'\n",
    "dct3_aux['AABYE CHRISTIAN'] = 'individual'"
   ]
  },
  {
   "cell_type": "code",
   "execution_count": 32,
   "metadata": {},
   "outputs": [],
   "source": [
    "# with open('../data/processed/dct_of_labeled_ner.txt', 'wb') as file_out:\n",
    "#     pickle.dump(dct3_aux, file_out)"
   ]
  },
  {
   "cell_type": "code",
   "execution_count": 33,
   "metadata": {},
   "outputs": [],
   "source": [
    "# with open('../data/processed/dct_of_labeled_ner.txt', 'rb') as file_in:\n",
    "#     dct3_aux = pickle.load(file_in)"
   ]
  },
  {
   "cell_type": "markdown",
   "metadata": {},
   "source": [
    "Как видим (просмотрев результат разметки глазами и исправив ошибки руками), разработанный алгоритм ошибается примерно в 24 из 324 Assignee ($7.4\\%$, а при высокой цене точности ошибки поправляются разметчиками)."
   ]
  },
  {
   "cell_type": "code",
   "execution_count": 34,
   "metadata": {},
   "outputs": [
    {
     "data": {
      "text/plain": [
       "organisation    512\n",
       "individual      113\n",
       "Name: assignee_type, dtype: int64"
      ]
     },
     "execution_count": 34,
     "metadata": {},
     "output_type": "execute_result"
    }
   ],
   "source": [
    "data_assignee_multiple_rows['assignee_type'] = data_assignee_multiple_rows.Assignee.map(dct3_aux)\n",
    "data_assignee_multiple_rows['assignee_type'].value_counts()"
   ]
  },
  {
   "cell_type": "code",
   "execution_count": 35,
   "metadata": {},
   "outputs": [
    {
     "data": {
      "image/png": "[encoded data removed]",
      "text/plain": [
       "<matplotlib.figure.Figure at 0xf1e57fdd8>"
      ]
     },
     "metadata": {},
     "output_type": "display_data"
    }
   ],
   "source": [
    "x = data_assignee_multiple_rows['assignee_type'].value_counts().index\n",
    "y = data_assignee_multiple_rows['assignee_type'].value_counts()\n",
    "_ = sns.barplot(y=y, x=x)\n",
    "plt.title('Distribution of Organisation/Individuals')\n",
    "plt.xlabel('Assignee_type')\n",
    "plt.ylabel('Count')\n",
    "plt.tight_layout()\n",
    "plt.savefig('../reports/figures/Distribution of OrganisationIndividuals.png', dpi=600)\n",
    "del x, y, _"
   ]
  },
  {
   "cell_type": "markdown",
   "metadata": {},
   "source": [
    "***"
   ]
  },
  {
   "cell_type": "markdown",
   "metadata": {},
   "source": [
    "Теперь, зная тип Assignee и особенности двух детранслитеризаторов (один для ФИО, другой для Российских компаний и аббривиатур), можем выбрать финальный вариант автоматически."
   ]
  },
  {
   "cell_type": "code",
   "execution_count": 36,
   "metadata": {},
   "outputs": [],
   "source": [
    "data_assignee_multiple_rows['Likely_Assignee_ru'] = data_assignee_multiple_rows['Assignee_ru_ya']"
   ]
  },
  {
   "cell_type": "code",
   "execution_count": 37,
   "metadata": {},
   "outputs": [],
   "source": [
    "data_assignee_multiple_rows['Likely_Assignee_ru'][data_assignee_multiple_rows['assignee_type'] == 'individual'] = \\\n",
    "data_assignee_multiple_rows['Assignee_ru_go'][data_assignee_multiple_rows['assignee_type'] == 'individual']"
   ]
  },
  {
   "cell_type": "code",
   "execution_count": 38,
   "metadata": {},
   "outputs": [],
   "source": [
    "data_assignee_multiple_rows = data_assignee_multiple_rows.drop(columns=['Assignee_ru_go', 'Assignee_ru_ya'])"
   ]
  },
  {
   "cell_type": "markdown",
   "metadata": {},
   "source": [
    "***"
   ]
  },
  {
   "cell_type": "markdown",
   "metadata": {},
   "source": [
    "Приступим к самой сложно-автоматизируемой части: поиск адресов Assignee. Сложна она уже лишь потому ручной поиск по профильным источникам не помогает найти значимую часть случайно-выбираемых Assignee. Однако, всё же попробуем автоматизировать поиск."
   ]
  },
  {
   "cell_type": "code",
   "execution_count": 39,
   "metadata": {},
   "outputs": [],
   "source": [
    "data_assignee_multiple_rows['Assignee region'] = np.repeat([None], data_assignee_multiple_rows.shape[0])"
   ]
  },
  {
   "cell_type": "markdown",
   "metadata": {},
   "source": [
    "Во-первых, вручную обработаем особо крупных Assignee (Лаборатория Касперского, Intel, Яндекс, Яндекс-Европа"
   ]
  },
  {
   "cell_type": "code",
   "execution_count": 40,
   "metadata": {},
   "outputs": [],
   "source": [
    "# moscow\n",
    "data_assignee_multiple_rows['Assignee region'][data_assignee_multiple_rows['Assignee'].str.lower().str.contains(r'shtorm aleksej|storm alexey')] = 'Moscow'\n",
    "\n",
    "data_assignee_multiple_rows['Assignee region'][data_assignee_multiple_rows['Assignee'].str.lower().str.contains(r'1c|1s|1c')] = 'Moscow'\n",
    "data_assignee_multiple_rows['Assignee region'][data_assignee_multiple_rows['Assignee'].str.lower().str.contains('abbyy')] = 'Moscow'\n",
    "data_assignee_multiple_rows['Assignee region'][data_assignee_multiple_rows['Assignee'].str.lower().str.contains('abbyy')] = 'Moscow'\n",
    "data_assignee_multiple_rows['Assignee region'][data_assignee_multiple_rows['Assignee'].str.lower().str.contains(r'kaspersk|касперск')] = 'Moscow'\n",
    "data_assignee_multiple_rows['Assignee region'][data_assignee_multiple_rows['Assignee'].str.lower().str.contains(r'яндекс')] = 'Moscow'\n",
    "\n",
    "# Moscow region\n",
    "# data_assignee_multiple_rows['Assignee region'][data_assignee_multiple_rows['Assignee'].str.lower().str.contains(r'skolkovo')] = 'Moscow Oblast'\n",
    "\n",
    "\n",
    "#Nizhny Novgorod region\n",
    "# data_assignee_multiple_rows['Assignee region'][data_assignee_multiple_rows['Assignee'].str.lower().str.contains(r'intel')] = 'Nizhny Novgorod Oblast'\n",
    "\n",
    "# else\n",
    "# data_assignee_multiple_rows['Assignee region'][data_assignee_multiple_rows['Assignee'].str.lower().str.contains(r'yandex europe|yandex europe')] = 'Luzern, Швейцария'\n",
    "data_assignee_multiple_rows['Assignee region'][data_assignee_multiple_rows['Assignee region'].isnull()]= 'Not Moscow'"
   ]
  },
  {
   "cell_type": "code",
   "execution_count": 41,
   "metadata": {},
   "outputs": [],
   "source": [
    "# data_assignee_multiple_rows.to_csv('../data/processed/data_assignee_multiple_rows.csv')"
   ]
  },
  {
   "cell_type": "markdown",
   "metadata": {},
   "source": [
    "# Содержательный анализ данных"
   ]
  },
  {
   "cell_type": "markdown",
   "metadata": {},
   "source": [
    "> Для анализа даны **$328$** патентных заявки (Patent applications), поданных **резидентами России** **в иностранные патентные офисы** с период **с $1$ января $2017$ года по $31$ декабря $2017$ года**. Данные включают как патентные заявки физических лиц, ИП (individual), так и патентные заявки предприятий (organizations)."
   ]
  },
  {
   "cell_type": "code",
   "execution_count": 42,
   "metadata": {},
   "outputs": [
    {
     "data": {
      "text/plain": [
       "(328, 8)"
      ]
     },
     "execution_count": 42,
     "metadata": {},
     "output_type": "execute_result"
    }
   ],
   "source": [
    "data.shape"
   ]
  },
  {
   "cell_type": "markdown",
   "metadata": {},
   "source": [
    "> Выведем **топ-10** Current assignees.\n",
    "\n",
    "Возникает проблема с тем, что многие фактически одинаковые (холдинги и дочерние компании, опечатки) компаний записаны по разному (например, AO KASPERSKY LAB и KASPERSKY). Обрабатывать её сейчас не будем."
   ]
  },
  {
   "cell_type": "code",
   "execution_count": 43,
   "metadata": {},
   "outputs": [
    {
     "data": {
      "text/plain": [
       "AO KASPERSKY LAB                                              54\n",
       "INTEL                                                         50\n",
       "LABORATORIYA KASPERSKOGO                                      32\n",
       "OBSHCHESTVO S OGRANICHENNOJ OTVETSTVENNOSTYU YANDEKS          23\n",
       "YANDEX EUROPE                                                 23\n",
       "KASPERSKY                                                     18\n",
       "AO KASPERSKY LAB AO KASPERSKY LAB                             16\n",
       "ABBYY PRODUCTION                                              10\n",
       "OBSHCHESTVO S OGRANICHENNOJ OTVETSTVENNOSTYU ABI PRODAKSHN     8\n",
       "PUBLIC JOINT STOCK                                             6\n",
       "Name: Assignee, dtype: int64"
      ]
     },
     "execution_count": 43,
     "metadata": {},
     "output_type": "execute_result"
    }
   ],
   "source": [
    "data_assignee_multiple_rows['Assignee'].value_counts().head(10)"
   ]
  },
  {
   "cell_type": "markdown",
   "metadata": {},
   "source": [
    "> Посмотрим на распределение Current assignees по **organisation/individual**.\n",
    "\n",
    "Оценочное отклонения в границах +-3 (интуитивная оценка, так как истинных значений нет).\n",
    "\n",
    "**Алгоритм:** распознавание именованных сущностей и ручная проверка качества."
   ]
  },
  {
   "cell_type": "code",
   "execution_count": 44,
   "metadata": {},
   "outputs": [
    {
     "data": {
      "text/plain": [
       "organisation    512\n",
       "individual      113\n",
       "Name: assignee_type, dtype: int64"
      ]
     },
     "execution_count": 44,
     "metadata": {},
     "output_type": "execute_result"
    }
   ],
   "source": [
    " data_assignee_multiple_rows['assignee_type'].value_counts()"
   ]
  },
  {
   "cell_type": "markdown",
   "metadata": {},
   "source": [
    "Отобразим также распределение **топ-10** Current assignees по **organisation/individual**."
   ]
  },
  {
   "cell_type": "code",
   "execution_count": 45,
   "metadata": {},
   "outputs": [
    {
     "data": {
      "text/plain": [
       "assignee_type                                                            \n",
       "individual     SHTORM ALEKSEJ VIKTOROVICH                                     5\n",
       "               STORM ALEXEY VIKTOROVICH                                       5\n",
       "               USHAKOV ALEXEY LEONIDOVICH                                     3\n",
       "               SHILOV VICTOR PETROVICH                                        2\n",
       "               SHILOV VIKTOR PETROVICH                                        2\n",
       "               USHAKOV ALEKSEJ LEONIDOVICH                                    2\n",
       "               VARYUKHIN MAXIM ANTONOVICH                                     1\n",
       "               KISKO BORIS ALEKSANDROVICH                                     1\n",
       "               RABINOVICH ILYA SAMUILOVICH                                    1\n",
       "               ETEMAD KAMRAN                                                  1\n",
       "organisation   AO KASPERSKY LAB                                              54\n",
       "               INTEL                                                         50\n",
       "               LABORATORIYA KASPERSKOGO                                      32\n",
       "               OBSHCHESTVO S OGRANICHENNOJ OTVETSTVENNOSTYU YANDEKS          23\n",
       "               YANDEX EUROPE                                                 23\n",
       "               KASPERSKY                                                     18\n",
       "               AO KASPERSKY LAB AO KASPERSKY LAB                             16\n",
       "               ABBYY PRODUCTION                                              10\n",
       "               OBSHCHESTVO S OGRANICHENNOJ OTVETSTVENNOSTYU ABI PRODAKSHN     8\n",
       "               PUBLIC JOINT STOCK                                             6\n",
       "Name: Assignee, dtype: int64"
      ]
     },
     "execution_count": 45,
     "metadata": {},
     "output_type": "execute_result"
    }
   ],
   "source": [
    "data_assignee_multiple_rows.groupby(['assignee_type'])['Assignee'].apply(lambda x: x.value_counts().head(10))"
   ]
  },
  {
   "cell_type": "markdown",
   "metadata": {},
   "source": [
    "> Посмотрим на распределение Current assignees **по субъекту (Moscow/~Moscow)**\n",
    "\n",
    "Алгоритм (переход к следующему пункту если качество работы предыдущего не устраивает): \n",
    "0. Rule-based обработаем крупных Assignees по названиям холдинга или ФИО.\n",
    "1. Проверим наличие субъекта Current assignees в базе (Assignee address).\n",
    "2. Для Current assignees, чей адресс не указан обратимся к другим _открытым_ источникам (в порядке убывания приоритета): \n",
    "    * открытые реестры, налоговые базы, базы проверки контрагентов, базы организаций \n",
    "        - [\\[1\\]](https://egrul.nalog.ru/index.html) \n",
    "        [\\[2\\]](http://zakupki.gov.ru/epz/organization/quicksearch/search.html?searchString=%D0%9A%D0%B0%D1%81%D0%BF%D0%B5%D1%80%D1%81%D0%BA%D0%BE%D0%B3%D0%BE&morphology=on&pageNumber=1&sortDirection=true&recordsPerPage=_10&sortBy=PO_NAZVANIYU&fz94=on&fz223=on&regionDeleted=false) \n",
    "        [\\[3\\]](http://online.igk-group.ru/ru/home?name=%D0%90%D0%9E+%22+%D0%9B%D0%90%D0%91%D0%9E%D0%A0%D0%90%D0%A2%D0%9E%D0%A0%D0%98%D0%AF+%D0%9A%D0%90%D0%A1%D0%9F%D0%95%D0%A0%D0%A1%D0%9A%D0%9E%D0%93%D0%9E&ogrn=&inn=) \n",
    "        [\\[4\\]](https://www.list-org.com/) \n",
    "        [\\[5\\]](https://www.kartoteka.ru/) \n",
    "        [\\[6\\]](https://zachestnyibiznes.ru/) \n",
    "        [\\[7\\]](https://sbis.ru/) \n",
    "        [\\[8\\]](https://nalog.io/), \n",
    "    * базы патентов, базы конкурсов на финансирование \n",
    "        - [\\[1\\]](http://www.findpatent.ru/) \n",
    "        [\\[2\\]](https://patentdb.ru/) [\\[3\\]](https://4science.ru/), \n",
    "    * обращение к gis сервисам \n",
    "        - [\\[1\\]](https://2gis.ru/), \n",
    "    * ручной поиск."
   ]
  },
  {
   "cell_type": "code",
   "execution_count": 82,
   "metadata": {},
   "outputs": [
    {
     "data": {
      "text/html": [
       "<div>\n",
       "<style scoped>\n",
       "    .dataframe tbody tr th:only-of-type {\n",
       "        vertical-align: middle;\n",
       "    }\n",
       "\n",
       "    .dataframe tbody tr th {\n",
       "        vertical-align: top;\n",
       "    }\n",
       "\n",
       "    .dataframe thead th {\n",
       "        text-align: right;\n",
       "    }\n",
       "</style>\n",
       "<table border=\"1\" class=\"dataframe\">\n",
       "  <thead>\n",
       "    <tr style=\"text-align: right;\">\n",
       "      <th></th>\n",
       "      <th>Assignee region</th>\n",
       "      <th>assignee_type</th>\n",
       "      <th>0</th>\n",
       "    </tr>\n",
       "  </thead>\n",
       "  <tbody>\n",
       "    <tr>\n",
       "      <th>0</th>\n",
       "      <td>Moscow</td>\n",
       "      <td>individual</td>\n",
       "      <td>10</td>\n",
       "    </tr>\n",
       "    <tr>\n",
       "      <th>1</th>\n",
       "      <td>Moscow</td>\n",
       "      <td>organisation</td>\n",
       "      <td>138</td>\n",
       "    </tr>\n",
       "    <tr>\n",
       "      <th>2</th>\n",
       "      <td>Not Moscow</td>\n",
       "      <td>individual</td>\n",
       "      <td>103</td>\n",
       "    </tr>\n",
       "    <tr>\n",
       "      <th>3</th>\n",
       "      <td>Not Moscow</td>\n",
       "      <td>organisation</td>\n",
       "      <td>374</td>\n",
       "    </tr>\n",
       "  </tbody>\n",
       "</table>\n",
       "</div>"
      ],
      "text/plain": [
       "  Assignee region assignee_type    0\n",
       "0          Moscow    individual   10\n",
       "1          Moscow  organisation  138\n",
       "2      Not Moscow    individual  103\n",
       "3      Not Moscow  organisation  374"
      ]
     },
     "execution_count": 82,
     "metadata": {},
     "output_type": "execute_result"
    }
   ],
   "source": [
    "pd.DataFrame(data_assignee_multiple_rows.groupby(['Assignee region', 'assignee_type']).size()).reset_index()"
   ]
  },
  {
   "cell_type": "code",
   "execution_count": 88,
   "metadata": {},
   "outputs": [
    {
     "data": {
      "text/plain": [
       "Assignee region  assignee_type\n",
       "Moscow           individual        10\n",
       "                 organisation     138\n",
       "Not Moscow       individual       103\n",
       "                 organisation     374\n",
       "dtype: int64"
      ]
     },
     "execution_count": 88,
     "metadata": {},
     "output_type": "execute_result"
    }
   ],
   "source": []
  },
  {
   "cell_type": "code",
   "execution_count": 99,
   "metadata": {},
   "outputs": [
    {
     "data": {
      "text/plain": [
       "<pandas.core.groupby.groupby.DataFrameGroupBy object at 0x0000000F209616D8>"
      ]
     },
     "execution_count": 99,
     "metadata": {},
     "output_type": "execute_result"
    }
   ],
   "source": [
    "data_assignee_multiple_rows.groupby(['assignee_type'])"
   ]
  },
  {
   "cell_type": "code",
   "execution_count": 104,
   "metadata": {},
   "outputs": [
    {
     "data": {
      "text/plain": [
       "Assignee region  assignee_type\n",
       "Moscow           individual        10\n",
       "                 organisation     138\n",
       "Not Moscow       individual       103\n",
       "                 organisation     374\n",
       "dtype: int64"
      ]
     },
     "execution_count": 104,
     "metadata": {},
     "output_type": "execute_result"
    }
   ],
   "source": [
    "data_assignee_multiple_rows.groupby(['Assignee region', 'assignee_type']).size()"
   ]
  },
  {
   "cell_type": "code",
   "execution_count": 105,
   "metadata": {},
   "outputs": [
    {
     "data": {
      "text/html": [
       "<div>\n",
       "<style scoped>\n",
       "    .dataframe tbody tr th:only-of-type {\n",
       "        vertical-align: middle;\n",
       "    }\n",
       "\n",
       "    .dataframe tbody tr th {\n",
       "        vertical-align: top;\n",
       "    }\n",
       "\n",
       "    .dataframe thead th {\n",
       "        text-align: right;\n",
       "    }\n",
       "</style>\n",
       "<table border=\"1\" class=\"dataframe\">\n",
       "  <thead>\n",
       "    <tr style=\"text-align: right;\">\n",
       "      <th></th>\n",
       "      <th>Application number</th>\n",
       "      <th>Assignee</th>\n",
       "      <th>assignee_type</th>\n",
       "      <th>Likely_Assignee_ru</th>\n",
       "      <th>Assignee region</th>\n",
       "    </tr>\n",
       "  </thead>\n",
       "  <tbody>\n",
       "    <tr>\n",
       "      <th>0</th>\n",
       "      <td>EP17197386</td>\n",
       "      <td>AO KASPERSKY LAB</td>\n",
       "      <td>organisation</td>\n",
       "      <td>АО \"ЛАБОРАТОРИЯ КАСПЕРСКОГО\"</td>\n",
       "      <td>Moscow</td>\n",
       "    </tr>\n",
       "    <tr>\n",
       "      <th>22</th>\n",
       "      <td>EP17197385</td>\n",
       "      <td>AO KASPERSKY LAB</td>\n",
       "      <td>organisation</td>\n",
       "      <td>АО \"ЛАБОРАТОРИЯ КАСПЕРСКОГО\"</td>\n",
       "      <td>Moscow</td>\n",
       "    </tr>\n",
       "    <tr>\n",
       "      <th>23</th>\n",
       "      <td>EP17197108</td>\n",
       "      <td>AO KASPERSKY LAB</td>\n",
       "      <td>organisation</td>\n",
       "      <td>АО \"ЛАБОРАТОРИЯ КАСПЕРСКОГО\"</td>\n",
       "      <td>Moscow</td>\n",
       "    </tr>\n",
       "    <tr>\n",
       "      <th>24</th>\n",
       "      <td>WORU2017000572</td>\n",
       "      <td>AUTONOMOUS NON PROFIT ORGANIZATION FOR HIGHER ...</td>\n",
       "      <td>organisation</td>\n",
       "      <td>АВТОНОМНАЯ НЕКОММЕРЧЕСКАЯ ОРГАНИЗАЦИЯ ВЫСШЕГО ...</td>\n",
       "      <td>Not Moscow</td>\n",
       "    </tr>\n",
       "    <tr>\n",
       "      <th>28</th>\n",
       "      <td>RU2017125876</td>\n",
       "      <td>AUTONOMOUS NON PROFIT ORGANIZATION FOR HIGHER ...</td>\n",
       "      <td>organisation</td>\n",
       "      <td>АВТОНОМНАЯ НЕКОММЕРЧЕСКАЯ ОРГАНИЗАЦИЯ ВЫСШЕГО ...</td>\n",
       "      <td>Not Moscow</td>\n",
       "    </tr>\n",
       "    <tr>\n",
       "      <th>29</th>\n",
       "      <td>WORU2017000529</td>\n",
       "      <td>TORUS PROJECT</td>\n",
       "      <td>organisation</td>\n",
       "      <td>ПРОЕКТ ТОРУС</td>\n",
       "      <td>Not Moscow</td>\n",
       "    </tr>\n",
       "    <tr>\n",
       "      <th>55</th>\n",
       "      <td>US15/653,578</td>\n",
       "      <td>LIABILITY</td>\n",
       "      <td>organisation</td>\n",
       "      <td>Ограниченной ответственностью</td>\n",
       "      <td>Not Moscow</td>\n",
       "    </tr>\n",
       "    <tr>\n",
       "      <th>64</th>\n",
       "      <td>EP17196479</td>\n",
       "      <td>AO KASPERSKY LAB</td>\n",
       "      <td>organisation</td>\n",
       "      <td>АО \"ЛАБОРАТОРИЯ КАСПЕРСКОГО\"</td>\n",
       "      <td>Moscow</td>\n",
       "    </tr>\n",
       "    <tr>\n",
       "      <th>65</th>\n",
       "      <td>US15/700,390</td>\n",
       "      <td>KASHCHENKO STANISLAV D</td>\n",
       "      <td>individual</td>\n",
       "      <td>КАЩЕНКО СТАНИСЛАВ Д</td>\n",
       "      <td>Not Moscow</td>\n",
       "    </tr>\n",
       "    <tr>\n",
       "      <th>66</th>\n",
       "      <td>WORU2017000456</td>\n",
       "      <td>PEPTID PRODUCTS</td>\n",
       "      <td>organisation</td>\n",
       "      <td>ПЕПТИД ПРОДУКТЫ</td>\n",
       "      <td>Not Moscow</td>\n",
       "    </tr>\n",
       "    <tr>\n",
       "      <th>67</th>\n",
       "      <td>EP17382418</td>\n",
       "      <td>CONSEJO SUPERIOR DE INVESTIG CIENTÍFICAS CSIC</td>\n",
       "      <td>organisation</td>\n",
       "      <td>CONSEJO УЛУЧШЕННЫЙ ДЕ-РАЗВЕДКА НАУЧНЫМ И ТЕХНИ...</td>\n",
       "      <td>Not Moscow</td>\n",
       "    </tr>\n",
       "    <tr>\n",
       "      <th>67</th>\n",
       "      <td>EP17382418</td>\n",
       "      <td>IMMANUIL KANT BALTIC FEDERAL UNIVERSITY IKBFU</td>\n",
       "      <td>organisation</td>\n",
       "      <td>ИММАНУИЛА КАНТА БАЛТИЙСКОГО ФЕДЕРАЛЬНОГО УНИВЕ...</td>\n",
       "      <td>Not Moscow</td>\n",
       "    </tr>\n",
       "    <tr>\n",
       "      <th>69</th>\n",
       "      <td>EP17196437</td>\n",
       "      <td>AO KASPERSKY LAB</td>\n",
       "      <td>organisation</td>\n",
       "      <td>АО \"ЛАБОРАТОРИЯ КАСПЕРСКОГО\"</td>\n",
       "      <td>Moscow</td>\n",
       "    </tr>\n",
       "    <tr>\n",
       "      <th>69</th>\n",
       "      <td>EP17196437</td>\n",
       "      <td>AO KASPERSKY LAB AO KASPERSKY LAB</td>\n",
       "      <td>organisation</td>\n",
       "      <td>АО \"ЛАБОРАТОРИЯ КАСПЕРСКОГО\" АО \"ЛАБОРАТОРИЯ К...</td>\n",
       "      <td>Moscow</td>\n",
       "    </tr>\n",
       "    <tr>\n",
       "      <th>78</th>\n",
       "      <td>RU2017125333</td>\n",
       "      <td>AO KASPERSKY LAB</td>\n",
       "      <td>organisation</td>\n",
       "      <td>АО \"ЛАБОРАТОРИЯ КАСПЕРСКОГО\"</td>\n",
       "      <td>Moscow</td>\n",
       "    </tr>\n",
       "    <tr>\n",
       "      <th>78</th>\n",
       "      <td>RU2017125333</td>\n",
       "      <td>LABORATORIYA KASPERSKOGO</td>\n",
       "      <td>organisation</td>\n",
       "      <td>ЛАБОРАТОРИЯ КАСПЕРСКОГО</td>\n",
       "      <td>Moscow</td>\n",
       "    </tr>\n",
       "    <tr>\n",
       "      <th>90</th>\n",
       "      <td>RU2017128559</td>\n",
       "      <td>FEDERAL STATE BUDGETARY EDUCATION INSTITUTION ...</td>\n",
       "      <td>organisation</td>\n",
       "      <td>ФЕДЕРАЛЬНОЕ ГОСУДАРСТВЕННОЕ БЮДЖЕТНОЕ ОБРАЗОВА...</td>\n",
       "      <td>Not Moscow</td>\n",
       "    </tr>\n",
       "    <tr>\n",
       "      <th>90</th>\n",
       "      <td>RU2017128559</td>\n",
       "      <td>FEDERALNOE GOSUDARSTVENNOE BYUDZHETNOE OBRAZOV...</td>\n",
       "      <td>organisation</td>\n",
       "      <td>ФЕДЕРАЛЬНОЕ ГОСУДАРСТВЕННОЕ БЮДЖЕТНОЕ ОБРАЗОВА...</td>\n",
       "      <td>Not Moscow</td>\n",
       "    </tr>\n",
       "    <tr>\n",
       "      <th>115</th>\n",
       "      <td>WORU2017000440</td>\n",
       "      <td>OPTIMAL MAN LIABILITY</td>\n",
       "      <td>organisation</td>\n",
       "      <td>ОПТИМАЛЬНЫМ ОТВЕТСТВЕННОСТИ ЧЕЛОВЕКА</td>\n",
       "      <td>Not Moscow</td>\n",
       "    </tr>\n",
       "    <tr>\n",
       "      <th>116</th>\n",
       "      <td>RU2017121244</td>\n",
       "      <td>LITVINENKO ANDREY YURIEVICH</td>\n",
       "      <td>individual</td>\n",
       "      <td>ЛИТВИНЕНКО АНДРЕЙ ЮРЬЕВИЧ</td>\n",
       "      <td>Not Moscow</td>\n",
       "    </tr>\n",
       "    <tr>\n",
       "      <th>116</th>\n",
       "      <td>RU2017121244</td>\n",
       "      <td>LITVINENKO YURIJ VADIMOVICH</td>\n",
       "      <td>individual</td>\n",
       "      <td>ЛИТВИНЕНКО ЮРИЙ ВАДИМОВИЧ</td>\n",
       "      <td>Not Moscow</td>\n",
       "    </tr>\n",
       "    <tr>\n",
       "      <th>116</th>\n",
       "      <td>RU2017121244</td>\n",
       "      <td>LITVINENKO YUY VADIMOVICH</td>\n",
       "      <td>individual</td>\n",
       "      <td>ЛИТВИНЕНКО ЮЙ ВАДИМОВИЧ</td>\n",
       "      <td>Not Moscow</td>\n",
       "    </tr>\n",
       "    <tr>\n",
       "      <th>116</th>\n",
       "      <td>RU2017121244</td>\n",
       "      <td>PARINOV YURY VALENTINOVICH</td>\n",
       "      <td>individual</td>\n",
       "      <td>ПАРИНОВ ЮРИЙ ВАЛЕНТИНОВИЧ</td>\n",
       "      <td>Not Moscow</td>\n",
       "    </tr>\n",
       "    <tr>\n",
       "      <th>117</th>\n",
       "      <td>EP17196199</td>\n",
       "      <td>AO KASPERSKY LAB</td>\n",
       "      <td>organisation</td>\n",
       "      <td>АО \"ЛАБОРАТОРИЯ КАСПЕРСКОГО\"</td>\n",
       "      <td>Moscow</td>\n",
       "    </tr>\n",
       "    <tr>\n",
       "      <th>117</th>\n",
       "      <td>EP17196199</td>\n",
       "      <td>AO KASPERSKY LAB AO KASPERSKY LAB</td>\n",
       "      <td>organisation</td>\n",
       "      <td>АО \"ЛАБОРАТОРИЯ КАСПЕРСКОГО\" АО \"ЛАБОРАТОРИЯ К...</td>\n",
       "      <td>Moscow</td>\n",
       "    </tr>\n",
       "    <tr>\n",
       "      <th>118</th>\n",
       "      <td>US15/623,965</td>\n",
       "      <td>BEAMR IMAGING</td>\n",
       "      <td>organisation</td>\n",
       "      <td>BEAMR ВИЗУАЛИЗАЦИИ</td>\n",
       "      <td>Not Moscow</td>\n",
       "    </tr>\n",
       "    <tr>\n",
       "      <th>134</th>\n",
       "      <td>RU2017125331</td>\n",
       "      <td>AO KASPERSKY LAB</td>\n",
       "      <td>organisation</td>\n",
       "      <td>АО \"ЛАБОРАТОРИЯ КАСПЕРСКОГО\"</td>\n",
       "      <td>Moscow</td>\n",
       "    </tr>\n",
       "    <tr>\n",
       "      <th>134</th>\n",
       "      <td>RU2017125331</td>\n",
       "      <td>LABORATORIYA KASPERSKOGO</td>\n",
       "      <td>organisation</td>\n",
       "      <td>ЛАБОРАТОРИЯ КАСПЕРСКОГО</td>\n",
       "      <td>Moscow</td>\n",
       "    </tr>\n",
       "    <tr>\n",
       "      <th>150</th>\n",
       "      <td>RU2017119608</td>\n",
       "      <td>GAITUKIEV IBRAGIM MAGOMEDOVICH</td>\n",
       "      <td>individual</td>\n",
       "      <td>ГАЙТУКИЕВ ИБРАГИМ МАГОМЕДОВИЧ</td>\n",
       "      <td>Not Moscow</td>\n",
       "    </tr>\n",
       "    <tr>\n",
       "      <th>150</th>\n",
       "      <td>RU2017119608</td>\n",
       "      <td>TASHKINOV VICTOR VLADIMIROVICH</td>\n",
       "      <td>individual</td>\n",
       "      <td>ТАШКИН ВИКТОР ВЛАДИМИРОВИЧ</td>\n",
       "      <td>Not Moscow</td>\n",
       "    </tr>\n",
       "    <tr>\n",
       "      <th>...</th>\n",
       "      <td>...</td>\n",
       "      <td>...</td>\n",
       "      <td>...</td>\n",
       "      <td>...</td>\n",
       "      <td>...</td>\n",
       "    </tr>\n",
       "    <tr>\n",
       "      <th>1293</th>\n",
       "      <td>US13/600,100</td>\n",
       "      <td>IDERA</td>\n",
       "      <td>organisation</td>\n",
       "      <td>Компании idera</td>\n",
       "      <td>Not Moscow</td>\n",
       "    </tr>\n",
       "    <tr>\n",
       "      <th>1293</th>\n",
       "      <td>US13/600,100</td>\n",
       "      <td>PRECISE SOFTWARE SOLUTIONS</td>\n",
       "      <td>organisation</td>\n",
       "      <td>ТОЧНЫЕ ПРОГРАММНЫЕ РЕШЕНИЯ</td>\n",
       "      <td>Not Moscow</td>\n",
       "    </tr>\n",
       "    <tr>\n",
       "      <th>1293</th>\n",
       "      <td>US13/600,100</td>\n",
       "      <td>SHC AMBEO ACQUISITION</td>\n",
       "      <td>organisation</td>\n",
       "      <td>ПРИОБРЕТЕНИЕ ГТД AMBEO</td>\n",
       "      <td>Not Moscow</td>\n",
       "    </tr>\n",
       "    <tr>\n",
       "      <th>1294</th>\n",
       "      <td>US13/755,166</td>\n",
       "      <td>INTEL</td>\n",
       "      <td>organisation</td>\n",
       "      <td>Корпорация Intel</td>\n",
       "      <td>Not Moscow</td>\n",
       "    </tr>\n",
       "    <tr>\n",
       "      <th>1295</th>\n",
       "      <td>ITMI20130394</td>\n",
       "      <td>INTEL</td>\n",
       "      <td>organisation</td>\n",
       "      <td>Корпорация Intel</td>\n",
       "      <td>Not Moscow</td>\n",
       "    </tr>\n",
       "    <tr>\n",
       "      <th>1296</th>\n",
       "      <td>CA2986418</td>\n",
       "      <td>INTEL</td>\n",
       "      <td>organisation</td>\n",
       "      <td>Корпорация Intel</td>\n",
       "      <td>Not Moscow</td>\n",
       "    </tr>\n",
       "    <tr>\n",
       "      <th>1297</th>\n",
       "      <td>RU2012106461</td>\n",
       "      <td>HEALBE</td>\n",
       "      <td>organisation</td>\n",
       "      <td>Компания Healbe</td>\n",
       "      <td>Not Moscow</td>\n",
       "    </tr>\n",
       "    <tr>\n",
       "      <th>1297</th>\n",
       "      <td>RU2012106461</td>\n",
       "      <td>HEALBY</td>\n",
       "      <td>organisation</td>\n",
       "      <td>Healby и др.</td>\n",
       "      <td>Not Moscow</td>\n",
       "    </tr>\n",
       "    <tr>\n",
       "      <th>1297</th>\n",
       "      <td>RU2012106461</td>\n",
       "      <td>KHILBI</td>\n",
       "      <td>organisation</td>\n",
       "      <td>KHILBI</td>\n",
       "      <td>Not Moscow</td>\n",
       "    </tr>\n",
       "    <tr>\n",
       "      <th>1297</th>\n",
       "      <td>RU2012106461</td>\n",
       "      <td>OBSHCHESTVO S OGRANICHENNOY OTVETSTVENNOSTYU A...</td>\n",
       "      <td>organisation</td>\n",
       "      <td>ОБЩЕСТВО С ОГРАНИЧЕННОЙ ОТВЕТСТВЕННОСТЬЮ АЛГОРИТМ</td>\n",
       "      <td>Not Moscow</td>\n",
       "    </tr>\n",
       "    <tr>\n",
       "      <th>1297</th>\n",
       "      <td>RU2012106461</td>\n",
       "      <td>OBSHCHESTVO S OGRANICHENNOY OTVETSTVENNOSTYU H...</td>\n",
       "      <td>organisation</td>\n",
       "      <td>ОБЩЕСТВО С ОГРАНИЧЕННОЙ ОТВЕТСТВЕННОСТЬЮ HILBI</td>\n",
       "      <td>Not Moscow</td>\n",
       "    </tr>\n",
       "    <tr>\n",
       "      <th>1297</th>\n",
       "      <td>RU2012106461</td>\n",
       "      <td>OBSHCHESTVO S OGRANICHENNOY OTVETSTVENNOSTYU K...</td>\n",
       "      <td>organisation</td>\n",
       "      <td>ОБЩЕСТВО С ОГРАНИЧЕННОЙ ОТВЕТСТВЕННОСТЬЮ KHILBI</td>\n",
       "      <td>Not Moscow</td>\n",
       "    </tr>\n",
       "    <tr>\n",
       "      <th>1298</th>\n",
       "      <td>WOUS2012030833</td>\n",
       "      <td>INTEL</td>\n",
       "      <td>organisation</td>\n",
       "      <td>Корпорация Intel</td>\n",
       "      <td>Not Moscow</td>\n",
       "    </tr>\n",
       "    <tr>\n",
       "      <th>1299</th>\n",
       "      <td>WOUS2011053903</td>\n",
       "      <td>INTEL</td>\n",
       "      <td>organisation</td>\n",
       "      <td>Корпорация Intel</td>\n",
       "      <td>Not Moscow</td>\n",
       "    </tr>\n",
       "    <tr>\n",
       "      <th>1300</th>\n",
       "      <td>WOUS2012035568</td>\n",
       "      <td>INTEL</td>\n",
       "      <td>organisation</td>\n",
       "      <td>Корпорация Intel</td>\n",
       "      <td>Not Moscow</td>\n",
       "    </tr>\n",
       "    <tr>\n",
       "      <th>1301</th>\n",
       "      <td>WOEP2011003173</td>\n",
       "      <td>PETER NIKOLAEVICH LUSKINOVICH</td>\n",
       "      <td>individual</td>\n",
       "      <td>ПЕТР НИКОЛАЕВИЧ ЛУСКИНОВИЧ</td>\n",
       "      <td>Not Moscow</td>\n",
       "    </tr>\n",
       "    <tr>\n",
       "      <th>1301</th>\n",
       "      <td>WOEP2011003173</td>\n",
       "      <td>RUSUKINOVU ITCHI PETR NIKOLAEVICH</td>\n",
       "      <td>individual</td>\n",
       "      <td>РУСУКИН ИЧИ ПЕТР НИКОЛАЕВИЧ</td>\n",
       "      <td>Not Moscow</td>\n",
       "    </tr>\n",
       "    <tr>\n",
       "      <th>1302</th>\n",
       "      <td>WOUS2011038817</td>\n",
       "      <td>AABYE CHRISTIAN</td>\n",
       "      <td>individual</td>\n",
       "      <td>AABYE CHRISTIAN</td>\n",
       "      <td>Not Moscow</td>\n",
       "    </tr>\n",
       "    <tr>\n",
       "      <th>1302</th>\n",
       "      <td>WOUS2011038817</td>\n",
       "      <td>HILL TRUDY</td>\n",
       "      <td>organisation</td>\n",
       "      <td>ХОЛМ ТРУДИ</td>\n",
       "      <td>Not Moscow</td>\n",
       "    </tr>\n",
       "    <tr>\n",
       "      <th>1302</th>\n",
       "      <td>WOUS2011038817</td>\n",
       "      <td>MAKARENKO OLEG</td>\n",
       "      <td>individual</td>\n",
       "      <td>МАКАРЕНКО ОЛЕГ</td>\n",
       "      <td>Not Moscow</td>\n",
       "    </tr>\n",
       "    <tr>\n",
       "      <th>1302</th>\n",
       "      <td>WOUS2011038817</td>\n",
       "      <td>MAKHOTIN OLEG</td>\n",
       "      <td>individual</td>\n",
       "      <td>ОЛЕГ Махотин</td>\n",
       "      <td>Not Moscow</td>\n",
       "    </tr>\n",
       "    <tr>\n",
       "      <th>1302</th>\n",
       "      <td>WOUS2011038817</td>\n",
       "      <td>NGO HAO</td>\n",
       "      <td>organisation</td>\n",
       "      <td>НПО ХАО</td>\n",
       "      <td>Not Moscow</td>\n",
       "    </tr>\n",
       "    <tr>\n",
       "      <th>1302</th>\n",
       "      <td>WOUS2011038817</td>\n",
       "      <td>THAW WILLIAM ALEXANDER</td>\n",
       "      <td>individual</td>\n",
       "      <td>ТАУ УИЛЬЯМ АЛЕКСАНДР</td>\n",
       "      <td>Not Moscow</td>\n",
       "    </tr>\n",
       "    <tr>\n",
       "      <th>1302</th>\n",
       "      <td>WOUS2011038817</td>\n",
       "      <td>VISA</td>\n",
       "      <td>organisation</td>\n",
       "      <td>Виза</td>\n",
       "      <td>Not Moscow</td>\n",
       "    </tr>\n",
       "    <tr>\n",
       "      <th>1302</th>\n",
       "      <td>WOUS2011038817</td>\n",
       "      <td>WONG ERICK</td>\n",
       "      <td>individual</td>\n",
       "      <td>ВОНГ ЭРИК</td>\n",
       "      <td>Not Moscow</td>\n",
       "    </tr>\n",
       "    <tr>\n",
       "      <th>1303</th>\n",
       "      <td>RU2011108066</td>\n",
       "      <td>DISICON</td>\n",
       "      <td>organisation</td>\n",
       "      <td>DISICON</td>\n",
       "      <td>Not Moscow</td>\n",
       "    </tr>\n",
       "    <tr>\n",
       "      <th>1303</th>\n",
       "      <td>RU2011108066</td>\n",
       "      <td>LIABILITY</td>\n",
       "      <td>organisation</td>\n",
       "      <td>Ограниченной ответственностью</td>\n",
       "      <td>Not Moscow</td>\n",
       "    </tr>\n",
       "    <tr>\n",
       "      <th>1303</th>\n",
       "      <td>RU2011108066</td>\n",
       "      <td>OOO DISIKON OOO DSK</td>\n",
       "      <td>organisation</td>\n",
       "      <td>ООО DISIKON ДСК</td>\n",
       "      <td>Not Moscow</td>\n",
       "    </tr>\n",
       "    <tr>\n",
       "      <th>1304</th>\n",
       "      <td>WOUS2009036837</td>\n",
       "      <td>INTEL</td>\n",
       "      <td>organisation</td>\n",
       "      <td>Корпорация Intel</td>\n",
       "      <td>Not Moscow</td>\n",
       "    </tr>\n",
       "    <tr>\n",
       "      <th>1305</th>\n",
       "      <td>US09/808,717</td>\n",
       "      <td>PAYPAL</td>\n",
       "      <td>organisation</td>\n",
       "      <td>В PayPal</td>\n",
       "      <td>Not Moscow</td>\n",
       "    </tr>\n",
       "  </tbody>\n",
       "</table>\n",
       "<p>625 rows × 5 columns</p>\n",
       "</div>"
      ],
      "text/plain": [
       "     Application number                                           Assignee  \\\n",
       "0            EP17197386                                   AO KASPERSKY LAB   \n",
       "22           EP17197385                                   AO KASPERSKY LAB   \n",
       "23           EP17197108                                   AO KASPERSKY LAB   \n",
       "24       WORU2017000572  AUTONOMOUS NON PROFIT ORGANIZATION FOR HIGHER ...   \n",
       "28         RU2017125876  AUTONOMOUS NON PROFIT ORGANIZATION FOR HIGHER ...   \n",
       "29       WORU2017000529                                      TORUS PROJECT   \n",
       "55         US15/653,578                                          LIABILITY   \n",
       "64           EP17196479                                   AO KASPERSKY LAB   \n",
       "65         US15/700,390                             KASHCHENKO STANISLAV D   \n",
       "66       WORU2017000456                                    PEPTID PRODUCTS   \n",
       "67           EP17382418      CONSEJO SUPERIOR DE INVESTIG CIENTÍFICAS CSIC   \n",
       "67           EP17382418      IMMANUIL KANT BALTIC FEDERAL UNIVERSITY IKBFU   \n",
       "69           EP17196437                                   AO KASPERSKY LAB   \n",
       "69           EP17196437                  AO KASPERSKY LAB AO KASPERSKY LAB   \n",
       "78         RU2017125333                                   AO KASPERSKY LAB   \n",
       "78         RU2017125333                           LABORATORIYA KASPERSKOGO   \n",
       "90         RU2017128559  FEDERAL STATE BUDGETARY EDUCATION INSTITUTION ...   \n",
       "90         RU2017128559  FEDERALNOE GOSUDARSTVENNOE BYUDZHETNOE OBRAZOV...   \n",
       "115      WORU2017000440                              OPTIMAL MAN LIABILITY   \n",
       "116        RU2017121244                        LITVINENKO ANDREY YURIEVICH   \n",
       "116        RU2017121244                        LITVINENKO YURIJ VADIMOVICH   \n",
       "116        RU2017121244                          LITVINENKO YUY VADIMOVICH   \n",
       "116        RU2017121244                         PARINOV YURY VALENTINOVICH   \n",
       "117          EP17196199                                   AO KASPERSKY LAB   \n",
       "117          EP17196199                  AO KASPERSKY LAB AO KASPERSKY LAB   \n",
       "118        US15/623,965                                      BEAMR IMAGING   \n",
       "134        RU2017125331                                   AO KASPERSKY LAB   \n",
       "134        RU2017125331                           LABORATORIYA KASPERSKOGO   \n",
       "150        RU2017119608                     GAITUKIEV IBRAGIM MAGOMEDOVICH   \n",
       "150        RU2017119608                     TASHKINOV VICTOR VLADIMIROVICH   \n",
       "...                 ...                                                ...   \n",
       "1293       US13/600,100                                              IDERA   \n",
       "1293       US13/600,100                         PRECISE SOFTWARE SOLUTIONS   \n",
       "1293       US13/600,100                              SHC AMBEO ACQUISITION   \n",
       "1294       US13/755,166                                              INTEL   \n",
       "1295       ITMI20130394                                              INTEL   \n",
       "1296          CA2986418                                              INTEL   \n",
       "1297       RU2012106461                                             HEALBE   \n",
       "1297       RU2012106461                                             HEALBY   \n",
       "1297       RU2012106461                                             KHILBI   \n",
       "1297       RU2012106461  OBSHCHESTVO S OGRANICHENNOY OTVETSTVENNOSTYU A...   \n",
       "1297       RU2012106461  OBSHCHESTVO S OGRANICHENNOY OTVETSTVENNOSTYU H...   \n",
       "1297       RU2012106461  OBSHCHESTVO S OGRANICHENNOY OTVETSTVENNOSTYU K...   \n",
       "1298     WOUS2012030833                                              INTEL   \n",
       "1299     WOUS2011053903                                              INTEL   \n",
       "1300     WOUS2012035568                                              INTEL   \n",
       "1301     WOEP2011003173                      PETER NIKOLAEVICH LUSKINOVICH   \n",
       "1301     WOEP2011003173                  RUSUKINOVU ITCHI PETR NIKOLAEVICH   \n",
       "1302     WOUS2011038817                                    AABYE CHRISTIAN   \n",
       "1302     WOUS2011038817                                         HILL TRUDY   \n",
       "1302     WOUS2011038817                                     MAKARENKO OLEG   \n",
       "1302     WOUS2011038817                                      MAKHOTIN OLEG   \n",
       "1302     WOUS2011038817                                            NGO HAO   \n",
       "1302     WOUS2011038817                             THAW WILLIAM ALEXANDER   \n",
       "1302     WOUS2011038817                                               VISA   \n",
       "1302     WOUS2011038817                                         WONG ERICK   \n",
       "1303       RU2011108066                                            DISICON   \n",
       "1303       RU2011108066                                          LIABILITY   \n",
       "1303       RU2011108066                                OOO DISIKON OOO DSK   \n",
       "1304     WOUS2009036837                                              INTEL   \n",
       "1305       US09/808,717                                             PAYPAL   \n",
       "\n",
       "     assignee_type                                 Likely_Assignee_ru  \\\n",
       "0     organisation                      АО \"ЛАБОРАТОРИЯ КАСПЕРСКОГО\"    \n",
       "22    organisation                      АО \"ЛАБОРАТОРИЯ КАСПЕРСКОГО\"    \n",
       "23    organisation                      АО \"ЛАБОРАТОРИЯ КАСПЕРСКОГО\"    \n",
       "24    organisation  АВТОНОМНАЯ НЕКОММЕРЧЕСКАЯ ОРГАНИЗАЦИЯ ВЫСШЕГО ...   \n",
       "28    organisation  АВТОНОМНАЯ НЕКОММЕРЧЕСКАЯ ОРГАНИЗАЦИЯ ВЫСШЕГО ...   \n",
       "29    organisation                                      ПРОЕКТ ТОРУС    \n",
       "55    organisation                      Ограниченной ответственностью   \n",
       "64    organisation                      АО \"ЛАБОРАТОРИЯ КАСПЕРСКОГО\"    \n",
       "65      individual                                КАЩЕНКО СТАНИСЛАВ Д   \n",
       "66    organisation                                    ПЕПТИД ПРОДУКТЫ   \n",
       "67    organisation  CONSEJO УЛУЧШЕННЫЙ ДЕ-РАЗВЕДКА НАУЧНЫМ И ТЕХНИ...   \n",
       "67    organisation  ИММАНУИЛА КАНТА БАЛТИЙСКОГО ФЕДЕРАЛЬНОГО УНИВЕ...   \n",
       "69    organisation                      АО \"ЛАБОРАТОРИЯ КАСПЕРСКОГО\"    \n",
       "69    organisation  АО \"ЛАБОРАТОРИЯ КАСПЕРСКОГО\" АО \"ЛАБОРАТОРИЯ К...   \n",
       "78    organisation                      АО \"ЛАБОРАТОРИЯ КАСПЕРСКОГО\"    \n",
       "78    organisation                           ЛАБОРАТОРИЯ КАСПЕРСКОГО    \n",
       "90    organisation  ФЕДЕРАЛЬНОЕ ГОСУДАРСТВЕННОЕ БЮДЖЕТНОЕ ОБРАЗОВА...   \n",
       "90    organisation  ФЕДЕРАЛЬНОЕ ГОСУДАРСТВЕННОЕ БЮДЖЕТНОЕ ОБРАЗОВА...   \n",
       "115   organisation              ОПТИМАЛЬНЫМ ОТВЕТСТВЕННОСТИ ЧЕЛОВЕКА    \n",
       "116     individual                          ЛИТВИНЕНКО АНДРЕЙ ЮРЬЕВИЧ   \n",
       "116     individual                          ЛИТВИНЕНКО ЮРИЙ ВАДИМОВИЧ   \n",
       "116     individual                            ЛИТВИНЕНКО ЮЙ ВАДИМОВИЧ   \n",
       "116     individual                          ПАРИНОВ ЮРИЙ ВАЛЕНТИНОВИЧ   \n",
       "117   organisation                      АО \"ЛАБОРАТОРИЯ КАСПЕРСКОГО\"    \n",
       "117   organisation  АО \"ЛАБОРАТОРИЯ КАСПЕРСКОГО\" АО \"ЛАБОРАТОРИЯ К...   \n",
       "118   organisation                                 BEAMR ВИЗУАЛИЗАЦИИ   \n",
       "134   organisation                      АО \"ЛАБОРАТОРИЯ КАСПЕРСКОГО\"    \n",
       "134   organisation                           ЛАБОРАТОРИЯ КАСПЕРСКОГО    \n",
       "150     individual                      ГАЙТУКИЕВ ИБРАГИМ МАГОМЕДОВИЧ   \n",
       "150     individual                         ТАШКИН ВИКТОР ВЛАДИМИРОВИЧ   \n",
       "...            ...                                                ...   \n",
       "1293  organisation                                     Компании idera   \n",
       "1293  organisation                         ТОЧНЫЕ ПРОГРАММНЫЕ РЕШЕНИЯ   \n",
       "1293  organisation                            ПРИОБРЕТЕНИЕ ГТД AMBEO    \n",
       "1294  organisation                                   Корпорация Intel   \n",
       "1295  organisation                                   Корпорация Intel   \n",
       "1296  organisation                                   Корпорация Intel   \n",
       "1297  organisation                                    Компания Healbe   \n",
       "1297  organisation                                       Healby и др.   \n",
       "1297  organisation                                             KHILBI   \n",
       "1297  organisation  ОБЩЕСТВО С ОГРАНИЧЕННОЙ ОТВЕТСТВЕННОСТЬЮ АЛГОРИТМ   \n",
       "1297  organisation     ОБЩЕСТВО С ОГРАНИЧЕННОЙ ОТВЕТСТВЕННОСТЬЮ HILBI   \n",
       "1297  organisation    ОБЩЕСТВО С ОГРАНИЧЕННОЙ ОТВЕТСТВЕННОСТЬЮ KHILBI   \n",
       "1298  organisation                                   Корпорация Intel   \n",
       "1299  organisation                                   Корпорация Intel   \n",
       "1300  organisation                                   Корпорация Intel   \n",
       "1301    individual                         ПЕТР НИКОЛАЕВИЧ ЛУСКИНОВИЧ   \n",
       "1301    individual                        РУСУКИН ИЧИ ПЕТР НИКОЛАЕВИЧ   \n",
       "1302    individual                                    AABYE CHRISTIAN   \n",
       "1302  organisation                                         ХОЛМ ТРУДИ   \n",
       "1302    individual                                     МАКАРЕНКО ОЛЕГ   \n",
       "1302    individual                                       ОЛЕГ Махотин   \n",
       "1302  organisation                                            НПО ХАО   \n",
       "1302    individual                               ТАУ УИЛЬЯМ АЛЕКСАНДР   \n",
       "1302  organisation                                               Виза   \n",
       "1302    individual                                          ВОНГ ЭРИК   \n",
       "1303  organisation                                            DISICON   \n",
       "1303  organisation                      Ограниченной ответственностью   \n",
       "1303  organisation                                    ООО DISIKON ДСК   \n",
       "1304  organisation                                   Корпорация Intel   \n",
       "1305  organisation                                           В PayPal   \n",
       "\n",
       "     Assignee region  \n",
       "0             Moscow  \n",
       "22            Moscow  \n",
       "23            Moscow  \n",
       "24        Not Moscow  \n",
       "28        Not Moscow  \n",
       "29        Not Moscow  \n",
       "55        Not Moscow  \n",
       "64            Moscow  \n",
       "65        Not Moscow  \n",
       "66        Not Moscow  \n",
       "67        Not Moscow  \n",
       "67        Not Moscow  \n",
       "69            Moscow  \n",
       "69            Moscow  \n",
       "78            Moscow  \n",
       "78            Moscow  \n",
       "90        Not Moscow  \n",
       "90        Not Moscow  \n",
       "115       Not Moscow  \n",
       "116       Not Moscow  \n",
       "116       Not Moscow  \n",
       "116       Not Moscow  \n",
       "116       Not Moscow  \n",
       "117           Moscow  \n",
       "117           Moscow  \n",
       "118       Not Moscow  \n",
       "134           Moscow  \n",
       "134           Moscow  \n",
       "150       Not Moscow  \n",
       "150       Not Moscow  \n",
       "...              ...  \n",
       "1293      Not Moscow  \n",
       "1293      Not Moscow  \n",
       "1293      Not Moscow  \n",
       "1294      Not Moscow  \n",
       "1295      Not Moscow  \n",
       "1296      Not Moscow  \n",
       "1297      Not Moscow  \n",
       "1297      Not Moscow  \n",
       "1297      Not Moscow  \n",
       "1297      Not Moscow  \n",
       "1297      Not Moscow  \n",
       "1297      Not Moscow  \n",
       "1298      Not Moscow  \n",
       "1299      Not Moscow  \n",
       "1300      Not Moscow  \n",
       "1301      Not Moscow  \n",
       "1301      Not Moscow  \n",
       "1302      Not Moscow  \n",
       "1302      Not Moscow  \n",
       "1302      Not Moscow  \n",
       "1302      Not Moscow  \n",
       "1302      Not Moscow  \n",
       "1302      Not Moscow  \n",
       "1302      Not Moscow  \n",
       "1302      Not Moscow  \n",
       "1303      Not Moscow  \n",
       "1303      Not Moscow  \n",
       "1303      Not Moscow  \n",
       "1304      Not Moscow  \n",
       "1305      Not Moscow  \n",
       "\n",
       "[625 rows x 5 columns]"
      ]
     },
     "execution_count": 105,
     "metadata": {},
     "output_type": "execute_result"
    }
   ],
   "source": [
    "data_assignee_multiple_rows"
   ]
  },
  {
   "cell_type": "code",
   "execution_count": 46,
   "metadata": {
    "scrolled": true
   },
   "outputs": [
    {
     "data": {
      "text/plain": [
       "Not Moscow    477\n",
       "Moscow        148\n",
       "Name: Assignee region, dtype: int64"
      ]
     },
     "execution_count": 46,
     "metadata": {},
     "output_type": "execute_result"
    }
   ],
   "source": [
    "data_assignee_multiple_rows['Assignee region'].value_counts()"
   ]
  },
  {
   "cell_type": "code",
   "execution_count": 47,
   "metadata": {},
   "outputs": [
    {
     "data": {
      "image/png": "[encoded data removed]",
      "text/plain": [
       "<matplotlib.figure.Figure at 0xf1e5a4a20>"
      ]
     },
     "metadata": {},
     "output_type": "display_data"
    }
   ],
   "source": [
    "x = data_assignee_multiple_rows['Assignee region'].value_counts().index\n",
    "y = data_assignee_multiple_rows['Assignee region'].value_counts()\n",
    "_ = sns.barplot(y=y, x=x)\n",
    "plt.title('Distribution of Moscow/Not Moscow residents')\n",
    "plt.xlabel('Assignee Region')\n",
    "plt.ylabel('Count')\n",
    "plt.tight_layout()\n",
    "plt.savefig('../reports/figures/Distribution of MoscowNot Moscow residents.png', dpi=600)\n",
    "#del x, y, _"
   ]
  },
  {
   "cell_type": "markdown",
   "metadata": {},
   "source": [
    "***"
   ]
  },
  {
   "cell_type": "markdown",
   "metadata": {},
   "source": [
    "## Report schablone:\n",
    "a) the total number of patent applications\n",
    "    * Посчитать размерность полученных данных по всем условиям.   \n",
    "        **Пример ответа:** %заявок было подано российскими гражданами в патентные бюро за пределами России.\n",
    "\n",
    "b) top assignees + the shares of individual vs. organizations. Describe the algorithm / approach which was used to separate individuals vs. organizations  \n",
    "    * top assignees: Выделить всех правообладателей (Current assignees) и подсчитать их встречаемость. (=взять json или (разделить по символу |, иначе взять всю строку))\n",
    "        **Пример ответа:** из них, наибольшее число заявок подали %лица. (гистограмма в плотли).\n",
    "    * the shares of individual vs. organizations: Присвоить каждому правообладателю (Current assignees) категориальный признак (1 or 0, organizations or individual), _скорее всего_ используем библиотеку для NER (как для транслитного названия, так для де-транслита). + валидируемся в источниках данных (государственные базы) о существовании такой организации, если выделяется категория organizations.\n",
    "        **Пример ответа:** Всего, от организаций было подано %процент заявок, а другие %процент заявок были поданы не организациями. (гистограмма в плотли с возможностью переключить между составом двух классов)\n",
    "\n",
    "c) the share of patent applications filed by the residents of Moscow. Describe the algorithm / approach which was used to identify application from Moscow.\n",
    "    * Для организаций или крупных юридических лиц: обращемся к дополнительным источникам (гос.базы) и парсим адрес.\n",
    "    * Для других: обращаемся к локальным дополнительным источникам, ждём дополнительных данных, маловероятно: оплачиваем разметку или нанимаем аналитика для ручного анализа интернета, телефонных книг.\n",
    "        **Пример ответа:** из всех заявок, в субъекте городе федерального значения Москва зарегистрировано %процент (явно указано в процессе заполнения заявки: %процент, имеется скрытая возможность определить адрес: %)."
   ]
  },
  {
   "cell_type": "markdown",
   "metadata": {},
   "source": [
    "***"
   ]
  },
  {
   "cell_type": "markdown",
   "metadata": {},
   "source": [
    "# PATSTAT Base"
   ]
  },
  {
   "cell_type": "markdown",
   "metadata": {},
   "source": [
    "Так как Orbit не раскрывает свои правила выделения кодов под Technology domain [1](https://static.orbit.com/orbit/help/1.9.8/en/index.html#!Documents/technologydomain.htm), попробуем выделить их сделав несколько случайных выборок по 1000 с заданными Technology domain и конкатенировать все уникальные.  \n",
    "В качестве запроса к PATSTAT используем ([\\[1\\]](https://forums.epo.org/coding-with-boolean-operators-for-ipc-codes-5542) [\\[2\\]](https://forums.epo.org/count-patent-based-on-assignee-country-7832)):\n",
    "```SQL\n",
    "SELECT DISTINCT a.*\n",
    "FROM tls201_appln a\n",
    "JOIN tls209_appln_ipc i ON a.appln_id = i.appln_id\n",
    "JOIN tls207_pers_appln pa on a.appln_id = pa.appln_id\n",
    "JOIN tls206_person p on pa.person_id = p.person_id\n",
    "WHERE\n",
    "(left (ipc_class_symbol, 4) IN ('H01B', 'F21S', 'C25D', 'H03L', 'H01S', 'H03G', 'F41H', 'H01G', 'G03B', 'E05B', 'B61B', 'B63G', 'H04B', 'G09C', 'B62D', 'B63C', 'H02S', 'F02B', 'H04R', 'G10K', 'G01T', 'G09B', 'G01C', 'G01D', 'F41F', 'A01G', 'H03F', 'E21B', 'F41G', 'B82B', 'G06T', 'C09D', 'H02J', 'G06F', 'C04B', 'G21H', 'B64C', 'H02B', 'E21F', 'H01R', 'H04M', 'B60Q', 'G01F', 'B60V', 'A61L', 'F42C', 'G11C', 'G08G', 'G01N', 'C08J', 'H03H', 'A01K', 'B29C', 'B23K', 'B64G', 'B60R', 'B64F', 'B82Y', 'B66B', 'G06E', 'G08B', 'A61P', 'G05B', 'C08L', 'F25B', 'E03C', 'B62B', 'G02F', 'B23H', 'B22F', 'A61B', 'C23C', 'B44F', 'C07F', 'F21V', 'B64B', 'A47F', 'F16G', 'A61K', 'H04W', 'G01W', 'H01L', 'C12Q', 'H04H', 'G08C', 'C30B', 'B60L', 'B61L', 'F25D', 'G01K', 'G07C', 'H01C', 'E04H', 'G06G', 'H04K', 'C01B', 'G21F', 'H04L', 'G05F', 'G02B', 'B60P', 'G03F', 'C22B', 'F28D', 'B61D', 'C05B', 'H02K', 'G10L', 'H02M', 'F16B', 'G12B', 'F24S', 'B25B', 'G01B', 'B65B', 'G05D', 'C22C', 'C07D', 'C03B', 'G01V', 'H03M', 'G07F', 'H01J', 'G01J', 'H03D', 'A61F', 'H01F', 'G06Q', 'H04Q', 'G06C', 'H03B', 'B65H', 'B23Q', 'E04G', 'G07B', 'B64D', 'G06K', 'G01H', 'F41A', 'C12N', 'F28F', 'B81B', 'H01P', 'H03C', 'E04D', 'A61C', 'G01M', 'B41M', 'H05B', 'G02C', 'F42B', 'H05K', 'H01Q', 'B33Y', 'G09G', 'H04N', 'G11B', 'G01R', 'C01F', 'H03K', 'G01L', 'G09F', 'A45C', 'H04J', 'G01S', 'G06N', 'H02H', 'B42D', 'G07D', 'C09K', 'H02N'))\n",
    "AND appln_filing_year = 2017\n",
    "AND appln_auth != 'RU' -- Fill to not Russian Office\n",
    "AND person_ctry_code = 'RU'  -- applicant must be from Russia\n",
    "AND appln_kind = 'A'  -- exclude PCT filings where the EPO only served as the Receiving Office\n",
    "AND a.appln_id < 900000000   -- exclude artificial applications (see PATSTAT Data Catalog for details)\n",
    "```\n",
    "\n",
    "Проверим схожесть данных из источников (Orbit, 328 заявок и PATStAT, 550 заяков):  \n",
    "Поле ```Application number``` для базы Orbit и колонка ```appln_nr_original``` для базы PATSTAT:\n",
    "\n",
    "Пересекаются 27 патентных заяков. Остальные патентные заявки по заданным полям при заданных условиях не одинаковы. Вероятная проблема в двух вещах: \n",
    "1. Неверно сделанный запрос к базе (не все коды классификации указаны).\n",
    "2. Неверная обработка кодов заявок, которые в двух базах представлны по разному/с разными названиями и попытка искать полную совместимость."
   ]
  },
  {
   "cell_type": "code",
   "execution_count": 48,
   "metadata": {},
   "outputs": [],
   "source": [
    "# data[data['Application number'].apply(lambda x: re.sub(\"\\D\", \"\", x)).isin(list(set(dd.appln_nr_original).intersection(set(data['Application number'].apply(lambda x: re.sub(\"\\D\", \"\", x))))))].shape"
   ]
  }
 ],
 "metadata": {
  "kernelspec": {
   "display_name": "Python 3",
   "language": "python",
   "name": "python3"
  },
  "language_info": {
   "codemirror_mode": {
    "name": "ipython",
    "version": 3
   },
   "file_extension": ".py",
   "mimetype": "text/x-python",
   "name": "python",
   "nbconvert_exporter": "python",
   "pygments_lexer": "ipython3",
   "version": "3.6.2"
  },
  "toc": {
   "base_numbering": 1,
   "nav_menu": {
    "height": "118px",
    "width": "476px"
   },
   "number_sections": true,
   "sideBar": true,
   "skip_h1_title": false,
   "title_cell": "Table of Contents",
   "title_sidebar": "Contents",
   "toc_cell": true,
   "toc_position": {},
   "toc_section_display": true,
   "toc_window_display": true
  }
 },
 "nbformat": 4,
 "nbformat_minor": 2
}
