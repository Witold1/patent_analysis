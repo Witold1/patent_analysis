{
 "cells": [
  {
   "cell_type": "code",
   "execution_count": null,
   "metadata": {},
   "outputs": [],
   "source": [
    "import plotly.graph_objs as go\n",
    "from plotly.offline import download_plotlyjs, init_notebook_mode, plot, iplot\n",
    "init_notebook_mode(connected=True)"
   ]
  },
  {
   "cell_type": "code",
   "execution_count": null,
   "metadata": {},
   "outputs": [],
   "source": [
    "trace = go.Bar(x = data_assignee_multiple_rows['assignee_type'].value_counts().index,\n",
    "                y = data_assignee_multiple_rows['assignee_type'].value_counts(),\n",
    "              text=['82%', '18%'],\n",
    "              marker=dict(\n",
    "        color='rgb(158,202,225)',\n",
    "        line=dict(\n",
    "            color='rgb(8,48,107)',\n",
    "            width=1.5,\n",
    "        )\n",
    "    ),)\n",
    "\n",
    "\n",
    "data = [trace]\n",
    "layout = go.Layout(\n",
    "    barmode='group',\n",
    "    title='Распределение правообладателей по типу individual vs organisation')\n",
    "\n",
    "fig = go.Figure(data=data, layout=layout)\n",
    "iplot(fig, filename='Распределение правообладателей по типу individual vs organisation')"
   ]
  },
  {
   "cell_type": "code",
   "execution_count": null,
   "metadata": {},
   "outputs": [],
   "source": [
    "x = data_assignee_multiple_rows['Assignee region'].value_counts().index\n",
    "y = data_assignee_multiple_rows['Assignee region'].value_counts()\n",
    "text = list(round(data_assignee_multiple_rows['Assignee region'].value_counts()/data_assignee_multiple_rows['Assignee region'].shape, 2))\n",
    "text = [f'{i*100:.0f}%' for i in text]\n",
    "trace = go.Bar(x = list(reversed(x)),\n",
    "               y = list(reversed(y)),\n",
    "               text=text,\n",
    "              marker=dict(\n",
    "        color='rgb(158,202,225)',\n",
    "        line=dict(\n",
    "            color='rgb(8,48,107)',\n",
    "            width=1.5,\n",
    "        )\n",
    "    ),)\n",
    "\n",
    "\n",
    "data = [trace]\n",
    "layout = go.Layout(\n",
    "    barmode='group',\n",
    "    title='Распределение правообладателей по двум регионам')\n",
    "\n",
    "fig = go.Figure(data=data, layout=layout)\n",
    "iplot(fig, filename='Распределение правообладателей по двум регионам')"
   ]
  }
 ],
 "metadata": {
  "kernelspec": {
   "display_name": "Python 3",
   "language": "python",
   "name": "python3"
  },
  "language_info": {
   "codemirror_mode": {
    "name": "ipython",
    "version": 3
   },
   "file_extension": ".py",
   "mimetype": "text/x-python",
   "name": "python",
   "nbconvert_exporter": "python",
   "pygments_lexer": "ipython3",
   "version": "3.6.2"
  }
 },
 "nbformat": 4,
 "nbformat_minor": 2
}
