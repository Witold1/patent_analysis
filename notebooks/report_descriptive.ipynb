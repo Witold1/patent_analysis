{
 "cells": [
  {
   "cell_type": "markdown",
   "metadata": {},
   "source": [
    "# Отчёт по анализу патентной активности юридических и физических лиц России"
   ]
  },
  {
   "cell_type": "markdown",
   "metadata": {},
   "source": [
    "## Summary:"
   ]
  },
  {
   "cell_type": "markdown",
   "metadata": {},
   "source": [
    "> Для анализа даны **$328$** патентных заявки (Patent applications), поданных $625$ **резидентами России** **в иностранные патентные офисы** с период **с $1$ января $2017$ года по $31$ декабря $2017$ года**. \n",
    "> - **Юридически**, данные включают как патентные заявки физических лиц, ИП (individual, $113$ или $0.18$ авторов патентных заявок), так и патентные заявки предприятий (organizations, $512$ или $0.82$ авторов патентных заявок).  \n",
    "> <sup>* Цифры учётом совместной подачи заявки несколькими компаниями одного холдинга.</sup>\n",
    "\n",
    "> - **Географически**, правообладатели патентных заявок распределены неравномерно распределены. В Москве ($148$ или $0.24$ правообладателей, с учётом правообладателей, чьи дочерние предприятия зарегистрированы за пределами РФ, но имеют права на патент) и за её пределами ($477$ или $0.76$ правообладателей)\\*.  \n",
    "> <sup>* Подробный анализ в срезе каждого региона возможен при дополнительном выделении средств на разметку данных и продолжение анализа.</sup>"
   ]
  },
  {
   "cell_type": "markdown",
   "metadata": {},
   "source": [
    "** Распределение правообладателей по типу individual or organisation**:\n",
    "![title](../reports/figures/Distribution of OrganisationIndividuals.png)"
   ]
  },
  {
   "cell_type": "markdown",
   "metadata": {},
   "source": [
    "**Топ-4 авторы заявок среди организаций ($0.47\\%$ заявок от организаций)**\n",
    "\n",
    "| Автор заявки                                  | Количество заявок |\n",
    "|----------------------------------------------------------------|---------------------|\n",
    "| Лаборатория Касперского                                        | 121                 |\n",
    "| INTEL                                                          | 50                  |\n",
    "| Яндекс                                                         | 51                  |\n",
    "| ABBYY                                                          | 18                  |\n",
    "\n",
    "**Топ-4 авторы заявок среди individuals ($0.16\\%$ заявок от individuals)**\n",
    "\n",
    "| Автор заявки           | Количество заявок |\n",
    "|---------------------------|-------------------|\n",
    "| ШТОРМ АЛЕКСЕЙ ВИКТОРОВИЧ  | 10                |\n",
    "| ШИЛОВ ВИКТОР ПЕТРОВИЧ     | 4                 |\n",
    "| УШАКОВ АЛЕКСЕЙ ЛЕОНИДОВИЧ | 2                 |\n",
    "| ВАРЮХИН МАКСИМ АНТОНОВИЧ  | 2                 |"
   ]
  },
  {
   "cell_type": "markdown",
   "metadata": {},
   "source": [
    "**Алгоритм определения:**  \n",
    "распознавание именованных сущностей и ручная обработка сложных случаев."
   ]
  },
  {
   "cell_type": "markdown",
   "metadata": {},
   "source": [
    "** Распределение правообладателей по региону**:\n",
    "![title](../reports/figures/Distribution of MoscowNot Moscow residents.png)"
   ]
  },
  {
   "cell_type": "markdown",
   "metadata": {},
   "source": [
    "**Алгоритм обработки:**  \n",
    "(переход к следующему пункту если качество работы предыдущего не устраивает):  \n",
    "\n",
    "_Предобработка:_\n",
    "0. Перевод транслитного написания в кирилическое  \n",
    "\n",
    "_Поиск:_\n",
    "0. Ручная обработка крупных Assignees по названиям холдинга или ФИО.\n",
    "1. Проверим наличие субъекта Current assignees в известной базе (Assignee address).\n",
    "2. Обращение к _открытым_ источникам (в порядке убывания приоритета): \n",
    "    * открытые реестры, налоговые базы, базы проверки контрагентов, базы организаций \n",
    "        - [\\[1\\]](https://egrul.nalog.ru/index.html) \n",
    "        [\\[2\\]](http://zakupki.gov.ru/epz/organization/quicksearch/search.html?searchString=%D0%9A%D0%B0%D1%81%D0%BF%D0%B5%D1%80%D1%81%D0%BA%D0%BE%D0%B3%D0%BE&morphology=on&pageNumber=1&sortDirection=true&recordsPerPage=_10&sortBy=PO_NAZVANIYU&fz94=on&fz223=on&regionDeleted=false) \n",
    "        [\\[3\\]](http://online.igk-group.ru/ru/home?name=%D0%90%D0%9E+%22+%D0%9B%D0%90%D0%91%D0%9E%D0%A0%D0%90%D0%A2%D0%9E%D0%A0%D0%98%D0%AF+%D0%9A%D0%90%D0%A1%D0%9F%D0%95%D0%A0%D0%A1%D0%9A%D0%9E%D0%93%D0%9E&ogrn=&inn=) \n",
    "        [\\[4\\]](https://www.list-org.com/) \n",
    "        [\\[5\\]](https://www.kartoteka.ru/) \n",
    "        [\\[6\\]](https://zachestnyibiznes.ru/) \n",
    "        [\\[7\\]](https://sbis.ru/) \n",
    "        [\\[8\\]](https://nalog.io/), \n",
    "    * базы патентов, базы конкурсов на финансирование \n",
    "        - [\\[1\\]](http://www.findpatent.ru/) \n",
    "        [\\[2\\]](https://patentdb.ru/) [\\[3\\]](https://4science.ru/), \n",
    "    * обращение к gis сервисам \n",
    "        - [\\[1\\]](https://2gis.ru/), \n",
    "    * ручной поиск."
   ]
  },
  {
   "cell_type": "markdown",
   "metadata": {},
   "source": [
    "## База PATSTAT"
   ]
  },
  {
   "cell_type": "markdown",
   "metadata": {},
   "source": [
    "Так как Orbit не раскрывает свои правила выделения кодов под Technology domain [1](https://static.orbit.com/orbit/help/1.9.8/en/index.html#!Documents/technologydomain.htm), попробуем выделить их сделав несколько случайных выборок по 1000 с заданными Technology domain и конкатенировать все уникальные.  \n",
    "В качестве запроса к PATSTAT используем ([\\[1\\]](https://forums.epo.org/coding-with-boolean-operators-for-ipc-codes-5542) [\\[2\\]](https://forums.epo.org/count-patent-based-on-assignee-country-7832)):\n",
    "```SQL\n",
    "SELECT DISTINCT a.*\n",
    "FROM tls201_appln a\n",
    "JOIN tls209_appln_ipc i ON a.appln_id = i.appln_id\n",
    "JOIN tls207_pers_appln pa on a.appln_id = pa.appln_id\n",
    "JOIN tls206_person p on pa.person_id = p.person_id\n",
    "WHERE\n",
    "(left (ipc_class_symbol, 4) IN ('H01B', 'F21S', 'C25D', 'H03L', 'H01S', 'H03G', 'F41H', 'H01G', 'G03B', 'E05B', 'B61B', 'B63G', 'H04B', 'G09C', 'B62D', 'B63C', 'H02S', 'F02B', 'H04R', 'G10K', 'G01T', 'G09B', 'G01C', 'G01D', 'F41F', 'A01G', 'H03F', 'E21B', 'F41G', 'B82B', 'G06T', 'C09D', 'H02J', 'G06F', 'C04B', 'G21H', 'B64C', 'H02B', 'E21F', 'H01R', 'H04M', 'B60Q', 'G01F', 'B60V', 'A61L', 'F42C', 'G11C', 'G08G', 'G01N', 'C08J', 'H03H', 'A01K', 'B29C', 'B23K', 'B64G', 'B60R', 'B64F', 'B82Y', 'B66B', 'G06E', 'G08B', 'A61P', 'G05B', 'C08L', 'F25B', 'E03C', 'B62B', 'G02F', 'B23H', 'B22F', 'A61B', 'C23C', 'B44F', 'C07F', 'F21V', 'B64B', 'A47F', 'F16G', 'A61K', 'H04W', 'G01W', 'H01L', 'C12Q', 'H04H', 'G08C', 'C30B', 'B60L', 'B61L', 'F25D', 'G01K', 'G07C', 'H01C', 'E04H', 'G06G', 'H04K', 'C01B', 'G21F', 'H04L', 'G05F', 'G02B', 'B60P', 'G03F', 'C22B', 'F28D', 'B61D', 'C05B', 'H02K', 'G10L', 'H02M', 'F16B', 'G12B', 'F24S', 'B25B', 'G01B', 'B65B', 'G05D', 'C22C', 'C07D', 'C03B', 'G01V', 'H03M', 'G07F', 'H01J', 'G01J', 'H03D', 'A61F', 'H01F', 'G06Q', 'H04Q', 'G06C', 'H03B', 'B65H', 'B23Q', 'E04G', 'G07B', 'B64D', 'G06K', 'G01H', 'F41A', 'C12N', 'F28F', 'B81B', 'H01P', 'H03C', 'E04D', 'A61C', 'G01M', 'B41M', 'H05B', 'G02C', 'F42B', 'H05K', 'H01Q', 'B33Y', 'G09G', 'H04N', 'G11B', 'G01R', 'C01F', 'H03K', 'G01L', 'G09F', 'A45C', 'H04J', 'G01S', 'G06N', 'H02H', 'B42D', 'G07D', 'C09K', 'H02N'))\n",
    "AND appln_filing_year = 2017\n",
    "AND appln_auth != 'RU' -- Fill to not Russian Office\n",
    "AND person_ctry_code = 'RU'  -- applicant must be from Russia\n",
    "AND appln_kind = 'A'  -- exclude PCT filings where the EPO only served as the Receiving Office\n",
    "AND a.appln_id < 900000000   -- exclude artificial applications (see PATSTAT Data Catalog for details)\n",
    "```\n",
    "\n",
    "**Cхожесть данных из источников (Orbit, найдено 328 заявок и PATStAT, найдено 550 заявок):**    \n",
    "_Ключ: Колонка_ ```Application number``` _для базы Orbit и колонка_ ```appln_nr_original``` _для базы PATSTAT:_\n",
    "\n",
    "Пересекаются $27$ патентных заяков. Остальные патентные заявки по заданным полям при заданных условиях не одинаковы. Вероятная проблема в двух вещах: \n",
    "1. Неверно сделанный запрос к базе (не все коды technology domains из базы Orbit найдены).\n",
    "2. Неверная обработка кодов заявок, которые в двух базах представлны по разному/с разными названиями."
   ]
  },
  {
   "cell_type": "code",
   "execution_count": null,
   "metadata": {},
   "outputs": [],
   "source": []
  }
 ],
 "metadata": {
  "kernelspec": {
   "display_name": "Python 3",
   "language": "python",
   "name": "python3"
  },
  "language_info": {
   "codemirror_mode": {
    "name": "ipython",
    "version": 3
   },
   "file_extension": ".py",
   "mimetype": "text/x-python",
   "name": "python",
   "nbconvert_exporter": "python",
   "pygments_lexer": "ipython3",
   "version": "3.6.2"
  }
 },
 "nbformat": 4,
 "nbformat_minor": 2
}
